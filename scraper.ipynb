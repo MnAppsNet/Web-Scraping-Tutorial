{
 "cells": [
  {
   "cell_type": "markdown",
   "metadata": {},
   "source": [
    "# Web Scraper for trip advisor"
   ]
  },
  {
   "cell_type": "markdown",
   "metadata": {},
   "source": [
    "## Prerequisites"
   ]
  },
  {
   "cell_type": "code",
   "execution_count": null,
   "metadata": {
    "vscode": {
     "languageId": "bat"
    }
   },
   "outputs": [],
   "source": [
    "pip install selenium"
   ]
  },
  {
   "cell_type": "markdown",
   "metadata": {},
   "source": [
    "## Imports"
   ]
  },
  {
   "cell_type": "code",
   "execution_count": 4,
   "metadata": {},
   "outputs": [],
   "source": [
    "import csv\n",
    "import time\n",
    "from selenium import webdriver\n",
    "from selenium.webdriver.common.by import By\n",
    "from selenium.webdriver.support.ui import WebDriverWait\n",
    "from selenium.webdriver.support import expected_conditions as EC\n",
    "import time\n",
    "\n",
    "from selenium.common.exceptions import TimeoutException\n",
    "from selenium.common.exceptions import StaleElementReferenceException\n",
    "from selenium.common.exceptions import NoSuchElementException"
   ]
  },
  {
   "cell_type": "markdown",
   "metadata": {},
   "source": [
    "## Constants"
   ]
  },
  {
   "cell_type": "code",
   "execution_count": 5,
   "metadata": {},
   "outputs": [],
   "source": [
    "URL_RESTAURANTS = \"https://www.tripadvisor.com/Restaurants-g189473-Thessaloniki_Thessaloniki_Region_Central_Macedonia.html\"\n",
    "URL_ONE_CAFE = \"https://www.tripadvisor.com/Restaurant_Review-g189473-d3807291-Reviews-To_Tsai_Thessaloniki-Thessaloniki_Thessaloniki_Region_Central_Macedonia.html\"\n",
    "\n",
    "PATH = \"chromedriver.exe\""
   ]
  },
  {
   "cell_type": "markdown",
   "metadata": {},
   "source": [
    "## Custom tools"
   ]
  },
  {
   "cell_type": "markdown",
   "metadata": {},
   "source": [
    "#### Elements Class - Contains all the element identifiers"
   ]
  },
  {
   "cell_type": "code",
   "execution_count": 24,
   "metadata": {},
   "outputs": [],
   "source": [
    "class element:\n",
    "    '''\n",
    "    This is a class that contains all the elements we will need to scrape data from TripAdvisor\n",
    "    '''\n",
    "    COOKIES_ACCEPT_BUTTON = (By.ID, \"onetrust-accept-btn-handler\")\n",
    "    SHOW_MORE_ESTABLISHMENT_TYPES_BUTTON = (By.CLASS_NAME, \"fdmYH\")\n",
    "\n",
    "    #Establishment Type elements:\n",
    "    RESTAURANTS_ESTABLISHMENT_TYPE_CHECKBOX = (By.ID, 'checkbox_3')\n",
    "    RESTAURANTS_ESTABLISHMENT_TYPE_BUTTON = (By.XPATH, f\".//label[@for='{RESTAURANTS_ESTABLISHMENT_TYPE_CHECKBOX[1]}']\")\n",
    "    COFFEE_AND_TEA_ESTABLISHMENT_TYPE_CHECKBOX = (By.ID, 'checkbox_6')\n",
    "    COFFEE_AND_TEA_ESTABLISHMENT_TYPE_BUTTON = (By.XPATH, f\".//label[@for='{COFFEE_AND_TEA_ESTABLISHMENT_TYPE_CHECKBOX[1]}']\")\n",
    "    BARS_ESTABLISHMENT_TYPE_CHECKBOX = (By.ID, 'checkbox_241')\n",
    "    BARS_ESTABLISHMENT_TYPE_BUTTON = (By.XPATH, f\".//label[@for='{BARS_ESTABLISHMENT_TYPE_CHECKBOX[1]}']\")\n",
    "\n",
    "\n",
    "    LIST_ITEM = (By.XPATH,\".//div[@data-test='&1_list_item']\")\n",
    "    LIST_ITEM_URL = (By.XPATH,\".//a[@class='bHGqj Cj b']\")\n",
    "    REVIEW_TABLE = (By.ID, \"taplc_location_reviews_list_resp_rr_resp_0\")\n",
    "    REVIEWS_COUNT = (By.CLASS_NAME, \"reviews_header_count\")\n",
    "    REVIEW_CONTAINER = (By.XPATH,\".//div[@class='review-container']\")\n",
    "    EXPAND_REVIEW_BUTTON = (By.XPATH,\"//span[@class='taLnk ulBlueLinks']\")\n",
    "\n",
    "    REVIEW_TITLE = (By.XPATH,\".//span[@class='noQuotes']\")\n",
    "    REVIEW_DATE = (By.XPATH,\".//span[contains(@class, 'ratingDate')]\")\n",
    "    REVIEW_RATING = (By.XPATH,\".//span[contains(@class, 'ui_bubble_rating bubble_')]\")\n",
    "    REVIEW_TEXT = (By.XPATH,\".//p[@class='partial_entry']\")\n",
    "    NEXT_PAGE_IN_REVIEWS = (By.XPATH,'.//a[@class=\"nav next ui_button primary\"]')"
   ]
  },
  {
   "cell_type": "markdown",
   "metadata": {},
   "source": [
    "#### Establishments Class - Used to along with the select_establishments method of TripAdvisorScrapper"
   ]
  },
  {
   "cell_type": "code",
   "execution_count": 17,
   "metadata": {},
   "outputs": [],
   "source": [
    "class establishment:\n",
    "    def __init__(self,checkboxElement,buttonElement,clickWhenStateIs):\n",
    "        self.checkboxElement = checkboxElement\n",
    "        self.buttonElement = buttonElement\n",
    "        self.clickWhenStateIs = clickWhenStateIs"
   ]
  },
  {
   "cell_type": "markdown",
   "metadata": {},
   "source": [
    "#### TripAdvisor Scraper Class"
   ]
  },
  {
   "cell_type": "code",
   "execution_count": 27,
   "metadata": {},
   "outputs": [],
   "source": [
    "class TripAdvisorScraper:\n",
    "    def __init__(self, path, url):\n",
    "        '''\n",
    "        Constructor\n",
    "        '''\n",
    "        self.driver = webdriver.Chrome(PATH)\n",
    "        self.url = url\n",
    "\n",
    "    def getElementObjects(self, element, rootItem = None,placeHolderValues:list=None):\n",
    "        '''\n",
    "        This method is used to gather all matching elements\n",
    "        '''\n",
    "        if rootItem == None:\n",
    "            rootItem = self.driver\n",
    "        value = element[1]\n",
    "        if placeHolderValues != None:\n",
    "            for i in range(0,len(placeHolderValues)):\n",
    "                value = value.replace(\"&\" + str(i),placeHolderValues[i])\n",
    "        return rootItem.find_elements(element[0],value)\n",
    "\n",
    "    def getElementObject(self, element, rootItem = None,placeHolderValues:list=None):\n",
    "        '''\n",
    "        This method is used to gather an element defined in the elements class\n",
    "        '''\n",
    "        if rootItem == None:\n",
    "            rootItem = self.driver\n",
    "        value = element[1]\n",
    "        if placeHolderValues != None:\n",
    "            for i in range(0,len(placeHolderValues)):\n",
    "                value = value.replace(\"&\" + str(i),placeHolderValues[i])\n",
    "        return rootItem.find_element(element[0],value)\n",
    "\n",
    "    def waitForElement(self,element,rootItem = None, placeHolderValues:list=None):\n",
    "        '''\n",
    "        This method is used to gather an element defined in the elements class but it also waits until the element is presented\n",
    "        '''\n",
    "        if rootItem == None:\n",
    "            rootItem = self.driver\n",
    "        value = element[1]\n",
    "        if placeHolderValues != None:\n",
    "            for i in range(0,len(placeHolderValues)):\n",
    "                value = value.replace(\"&\" + str(i+1),placeHolderValues[i])\n",
    "        try:\n",
    "            return WebDriverWait(rootItem, 20).until(EC.presence_of_element_located((element[0],value)))\n",
    "        except:\n",
    "            return None\n",
    "\n",
    "    def acceptCookies(self):\n",
    "        try:\n",
    "            cookies = self.waitForElement(element.COOKIES_ACCEPT_BUTTON)\n",
    "            cookies.click()\n",
    "        except:\n",
    "            print(\"No cookies! Impolite! Meh...\")\n",
    "\n",
    "    def open_browser(self):\n",
    "        '''\n",
    "        This method is used to navigate to the URL that was instructed to the scraper durring initialization\n",
    "        '''\n",
    "        self.driver.get(self.url) #Load URL\n",
    "        self.acceptCookies()\n",
    "\n",
    "    def select_establishments(self,establishments:list):\n",
    "        '''\n",
    "        This method is used to select establishment types on TripAdvisor\n",
    "        Parameters:\n",
    "        establistmentElements :\n",
    "            Gets a list of objects with three keys, checkbox, initialState and button :\n",
    "                'checkbox'      : The checkbox element to check (Type: element object from element class)\n",
    "                'button'        : The button element to click in order to change the state (Type: element object from element class)\n",
    "                'initialState'  : The initial state of the checkbox (Type: boolean, True/False)\n",
    "        '''\n",
    "\n",
    "        #Expand list of establishments:\n",
    "        try:\n",
    "            #there are other elements with the same class name, but this is the first one\n",
    "            more_button = self.waitForElement(element.SHOW_MORE_ESTABLISHMENT_TYPES_BUTTON)\n",
    "            more_button.click()\n",
    "        except:\n",
    "            pass\n",
    "\n",
    "        #Select establishment types:\n",
    "        for e in establishments:\n",
    "            if type(e) != establishment: continue\n",
    "            try:\n",
    "                establishment_checkbox = self.getElementObject(e.checkboxElement).is_selected()\n",
    "                if establishment_checkbox == e.clickWhenStateIs:\n",
    "                    self.getElementObject(e.buttonElement).click()\n",
    "            except:\n",
    "                pass\n",
    "\n",
    "    def loop_at_rest(self):\n",
    "        num_page = 2\n",
    "        for i in range(0, num_page):\n",
    "            num_items = 1\n",
    "            for j in range(1, num_items+1):\n",
    "                time.sleep(10)\n",
    "                item = self.waitForElement(element.LIST_ITEM, placeHolderValues=[str(j)] )\n",
    "                url = self.getElementObject(element.LIST_ITEM_URL, rootItem=item).get_attribute(\"href\")\n",
    "                self.driver.get(url)\n",
    "                self.get_reviews()\n",
    "\n",
    "    def get_reviews(self):\n",
    "        self.acceptCookies()\n",
    "        #num_page = 10\n",
    "        review_table = self.waitForElement(element.REVIEW_TABLE)\n",
    "        try:\n",
    "            reviews_no = self.getElementObject(element.REVIEWS_COUNT).text\n",
    "            reviews_no = int(reviews_no.replace(\"(\", \"\").replace(\")\", \"\"))\n",
    "            num_page = int(reviews_no / 10)\n",
    "            print(\"page = \",num_page)\n",
    "            k=0\n",
    "            for i in range(0, num_page):\n",
    "                # expand the review\n",
    "                time.sleep(4) #<= We need to think about this waiting time {!}\n",
    "                container = self.getElementObjects(element.REVIEW_CONTAINER)\n",
    "                print(\"container \", len(container))\n",
    "                for j in range(len(container)):\n",
    "                    try:\n",
    "                        try:\n",
    "                            time.sleep(2) #<= We need to think about this waiting time {!}\n",
    "                            more = self.getElementObject(element.EXPAND_REVIEW_BUTTON,rootItem=container[j])\n",
    "                            if more != None:\n",
    "                                if more.text == \"More\":\n",
    "                                    more.click()\n",
    "                        except StaleElementReferenceException:\n",
    "                            print(\"Comment \",j, \" could be longer, but I will let that pass...\" )\n",
    "\n",
    "                        title = self.getElementObject(element.REVIEW_TITLE,rootItem=container[j]).text\n",
    "                        date = self.getElementObject(element.REVIEW_DATE,rootItem=container[j]).get_attribute(\"title\")\n",
    "                        rating = self.getElementObject(element.REVIEW_RATING,rootItem=container[j]).get_attribute(\"class\").split(\"_\")[3]\n",
    "                        review = self.getElementObject(element.REVIEW_TEXT,rootItem=container[j]).text.replace(\"\\n\", \" \")\n",
    "                        print(title)\n",
    "                        print(date)\n",
    "                        print(rating)\n",
    "                        print(review)\n",
    "                        print(\"-----------\")\n",
    "                    except NoSuchElementException:\n",
    "                        print(\"Didn't found item \",j, \", but it should be there.\")\n",
    "                k=i\n",
    "                # change the page\n",
    "                self.getElementObject(element.NEXT_PAGE_IN_REVIEWS).click()\n",
    "        except NoSuchElementException:\n",
    "            print(\"Oops, unlucky search!\")\n",
    "        except TimeoutException:\n",
    "            print(\"You run out of time!\")\n",
    "\n",
    "        for i in (0,k-1):\n",
    "            self.driver.execute_script(\"window.history.go(-1)\")\n",
    "\n",
    "    def quit_browser(self):\n",
    "        self.driver.quit()\n"
   ]
  },
  {
   "cell_type": "code",
   "execution_count": null,
   "metadata": {},
   "outputs": [],
   "source": [
    "TripAdvisorScraper = TripAdvisorScraper(PATH,URL_RESTAURANTS)\n",
    "TripAdvisorScraper.open_browser()\n",
    "TripAdvisorScraper.select_establishments(\n",
    "    establishments=[\n",
    "        establishment(element.RESTAURANTS_ESTABLISHMENT_TYPE_CHECKBOX,element.RESTAURANTS_ESTABLISHMENT_TYPE_BUTTON,True),\n",
    "        establishment(element.COFFEE_AND_TEA_ESTABLISHMENT_TYPE_CHECKBOX,element.COFFEE_AND_TEA_ESTABLISHMENT_TYPE_BUTTON,False),\n",
    "        establishment(element.BARS_ESTABLISHMENT_TYPE_CHECKBOX,element.BARS_ESTABLISHMENT_TYPE_BUTTON,False)\n",
    "    ]\n",
    ")\n",
    "TripAdvisorScraper.loop_at_rest()\n",
    "# TripAdvisorScraper.get_reviews()\n",
    "TripAdvisorScraper.quit_browser()"
   ]
  },
  {
   "cell_type": "code",
   "execution_count": null,
   "metadata": {},
   "outputs": [],
   "source": []
  }
 ],
 "metadata": {
  "kernelspec": {
   "display_name": "Python 3",
   "language": "python",
   "name": "python3"
  },
  "language_info": {
   "codemirror_mode": {
    "name": "ipython",
    "version": 3
   },
   "file_extension": ".py",
   "mimetype": "text/x-python",
   "name": "python",
   "nbconvert_exporter": "python",
   "pygments_lexer": "ipython3",
   "version": "3.7.4"
  }
 },
 "nbformat": 4,
 "nbformat_minor": 4
}
