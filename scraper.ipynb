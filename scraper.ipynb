{
 "cells": [
  {
   "cell_type": "markdown",
   "metadata": {},
   "source": [
    "# Web Scraper for trip advisor"
   ]
  },
  {
   "cell_type": "markdown",
   "metadata": {},
   "source": [
    "## Prerequisites"
   ]
  },
  {
   "cell_type": "code",
   "execution_count": null,
   "metadata": {
    "vscode": {
     "languageId": "bat"
    }
   },
   "outputs": [],
   "source": [
    "pip install selenium"
   ]
  },
  {
   "cell_type": "markdown",
   "metadata": {},
   "source": [
    "## Imports"
   ]
  },
  {
   "cell_type": "code",
   "execution_count": 37,
   "metadata": {},
   "outputs": [],
   "source": [
    "import csv\n",
    "import time\n",
    "from selenium import webdriver\n",
    "from selenium.webdriver.common.by import By\n",
    "from selenium.webdriver.support.ui import WebDriverWait\n",
    "from selenium.webdriver.support import expected_conditions as EC\n",
    "import time\n",
    "\n",
    "from selenium.common.exceptions import TimeoutException\n",
    "from selenium.common.exceptions import StaleElementReferenceException\n",
    "from selenium.common.exceptions import NoSuchElementException"
   ]
  },
  {
   "cell_type": "markdown",
   "metadata": {},
   "source": [
    "## Constants"
   ]
  },
  {
   "cell_type": "code",
   "execution_count": 38,
   "metadata": {},
   "outputs": [],
   "source": [
    "URL_RESTAURANTS = \"https://www.tripadvisor.com/Restaurants-g189473-Thessaloniki_Thessaloniki_Region_Central_Macedonia.html\"\n",
    "URL_ONE_CAFE = \"https://www.tripadvisor.com/Restaurant_Review-g189473-d3807291-Reviews-To_Tsai_Thessaloniki-Thessaloniki_Thessaloniki_Region_Central_Macedonia.html\"\n",
    "\n",
    "PATH = \"chromedriver.exe\""
   ]
  },
  {
   "cell_type": "markdown",
   "metadata": {},
   "source": [
    "## Custom tools"
   ]
  },
  {
   "cell_type": "markdown",
   "metadata": {},
   "source": [
    "#### Elements Class - Contains all the element identifiers"
   ]
  },
  {
   "cell_type": "code",
   "execution_count": 48,
   "metadata": {},
   "outputs": [],
   "source": [
    "class element:\n",
    "    '''\n",
    "    This is a class that contains all the elements we will need to scrape data from TripAdvisor\n",
    "    '''\n",
    "    COOKIES_ACCEPT_BUTTON = (By.ID, \"onetrust-accept-btn-handler\")\n",
    "    SHOW_MORE_ESTABLISHMENT_TYPES_BUTTON = (By.CLASS_NAME, \"fdmYH\")\n",
    "    RESTAURANTS_ESTABLISHMENT_TYPE_CHECKBOX = (By.ID, 'checkbox_3')\n",
    "    RESTAURANTS_ESTABLISHMENT_TYPE_BUTTON = (By.XPATH, f\".//label[@for='{RESTAURANTS_ESTABLISHMENT_TYPE_CHECKBOX[1]}']\")\n",
    "    COFFEE_AND_TEA_ESTABLISHMENT_TYPE_CHECKBOX = (By.ID, 'checkbox_6')\n",
    "    COFFEE_AND_TEA_ESTABLISHMENT_TYPE_BUTTON = (By.XPATH, f\".//label[@for='{COFFEE_AND_TEA_ESTABLISHMENT_TYPE_CHECKBOX[1]}']\")\n",
    "    BARS_ESTABLISHMENT_TYPE_CHECKBOX = (By.ID, 'checkbox_241')\n",
    "    BARS_ESTABLISHMENT_TYPE_BUTTON = (By.XPATH, f\".//label[@for='{BARS_ESTABLISHMENT_TYPE_CHECKBOX[1]}']\")"
   ]
  },
  {
   "cell_type": "markdown",
   "metadata": {},
   "source": [
    "#### Establishments Class"
   ]
  },
  {
   "cell_type": "code",
   "execution_count": 49,
   "metadata": {},
   "outputs": [],
   "source": [
    "class establishment:\n",
    "    def __init__(self,checkboxElement,buttonElement,clickWhenStateIs):\n",
    "        self.checkboxElement = checkboxElement\n",
    "        self.buttonElement = buttonElement\n",
    "        self.clickWhenStateIs = clickWhenStateIs"
   ]
  },
  {
   "cell_type": "markdown",
   "metadata": {},
   "source": [
    "#### Scraper Class"
   ]
  },
  {
   "cell_type": "code",
   "execution_count": 50,
   "metadata": {},
   "outputs": [],
   "source": [
    "class TripAdvisorScraper:\n",
    "    def __init__(self, path, url):\n",
    "        '''\n",
    "        Constructor\n",
    "        '''\n",
    "        self.driver = webdriver.Chrome(PATH)\n",
    "        self.url = url\n",
    "\n",
    "    def getElementObject(self,element):\n",
    "        '''\n",
    "        This method is used to gather an element defined in the elements class\n",
    "        '''\n",
    "        return self.driver.find_element(element[0],element[1])\n",
    "\n",
    "    def waitForElement(self,element):\n",
    "        '''\n",
    "        This method is used to gather an element defined in the elements class but it also waits until the element is presented\n",
    "        '''\n",
    "        try:\n",
    "            return WebDriverWait(self.driver, 20).until(EC.presence_of_element_located(element))\n",
    "        except:\n",
    "            return None\n",
    "\n",
    "    def open_browser(self):\n",
    "        '''\n",
    "        This method is used to navigate to the URL that was instructed to the scraper durring initialization\n",
    "        '''\n",
    "        self.driver.get(self.url) #Load URL\n",
    "        try:\n",
    "            cookies = WebDriverWait(self.driver, 20).until(\n",
    "                EC.presence_of_element_located(element.COOKIES_ACCEPT_BUTTON)\n",
    "            )\n",
    "            cookies.click()\n",
    "        except:\n",
    "            print(\"No cookies! Impolite! Meh...\")\n",
    "\n",
    "    def loop_at_rest(self):\n",
    "        num_page = 2\n",
    "        for i in range(0, num_page):\n",
    "            num_items = 1\n",
    "            for j in range(1, num_items+1):\n",
    "                time.sleep(10)\n",
    "                xpath = \".//div[@data-test='\"+ str(j)+\"_list_item']\"\n",
    "                item = self.driver.find_element(By.XPATH, xpath)\n",
    "                url = item.find_element_by_xpath(\".//a[@class='bHGqj Cj b']\").get_attribute(\"href\")\n",
    "                self.driver.get(url)\n",
    "                self.get_reviews()\n",
    "\n",
    "    def select_establishments(self,establishments:list):\n",
    "        '''\n",
    "        This method is used to select establishment types on TripAdvisor\n",
    "        Parameters:\n",
    "        establistmentElements :\n",
    "            Gets a list of objects with three keys, checkbox, initialState and button :\n",
    "                'checkbox'      : The checkbox element to check (Type: element object from element class)\n",
    "                'button'        : The button element to click in order to change the state (Type: element object from element class)\n",
    "                'initialState'  : The initial state of the checkbox (Type: boolean, True/False)\n",
    "        '''\n",
    "\n",
    "        #Expand list of establishments:\n",
    "        try:\n",
    "            #there are other elements with the same class name, but this is the first one\n",
    "            more_button = self.waitForElement(element.SHOW_MORE_ESTABLISHMENT_TYPES_BUTTON)\n",
    "            more_button.click()\n",
    "        except:\n",
    "            pass\n",
    "\n",
    "        for e in establishments:\n",
    "            if type(e) != establishment: continue\n",
    "            try:\n",
    "                establishment_checkbox = self.getElementObject(e.checkboxElement).is_selected()\n",
    "                if establishment_checkbox == e.clickWhenStateIs:\n",
    "                    self.getElementObject(e.buttonElement).click()\n",
    "            except:\n",
    "                pass\n",
    "\n",
    "    def get_reviews(self):\n",
    "        try:\n",
    "            cookies = WebDriverWait(self.driver, 20).until(\n",
    "                EC.presence_of_element_located((By.ID, \"onetrust-accept-btn-handler\"))\n",
    "            )\n",
    "\n",
    "            cookies.click()\n",
    "        except:\n",
    "            print(\"No cookies! Impolite! Meh...\")\n",
    "        #num_page = 10\n",
    "        review_table = WebDriverWait(self.driver, 20).until(\n",
    "            EC.presence_of_element_located((By.ID, \"taplc_location_reviews_list_resp_rr_resp_0\"))\n",
    "        )\n",
    "        try:\n",
    "            reviews_no = self.driver.find_element(By.CLASS_NAME, \"reviews_header_count\").text\n",
    "            reviews_no = reviews_no.replace(\"(\", \"\")\n",
    "            reviews_no = int(reviews_no.replace(\")\", \"\"))\n",
    "            num_page = int(reviews_no / 10)\n",
    "            print(\"page = \",num_page)\n",
    "            k=0\n",
    "            for i in range(0, num_page):\n",
    "                # expand the review\n",
    "                time.sleep(4)\n",
    "                container = self.driver.find_elements(By.XPATH,\".//div[@class='review-container']\")\n",
    "                print(\"container \", len(container))\n",
    "                for j in range(len(container)):\n",
    "                    try:\n",
    "                        try:\n",
    "                            time.sleep(2)\n",
    "                            more = container[j].find_element_by_xpath(\"//span[@class='taLnk ulBlueLinks']\").text\n",
    "                            if more == \"More\":\n",
    "                                container[j].find_element_by_xpath(\"//span[@class='taLnk ulBlueLinks']\").click()\n",
    "                        except StaleElementReferenceException:\n",
    "                            print(\"Comment \",j, \" could be longer, but I will let that pass...\" )\n",
    "\n",
    "                        title = container[j].find_element_by_xpath(\".//span[@class='noQuotes']\").text\n",
    "                        date = container[j].find_element_by_xpath(\".//span[contains(@class, 'ratingDate')]\").get_attribute(\"title\")\n",
    "                        rating = container[j].find_element_by_xpath(\".//span[contains(@class, 'ui_bubble_rating bubble_')]\").get_attribute(\"class\").split(\"_\")[3]\n",
    "                        review = container[j].find_element_by_xpath(\".//p[@class='partial_entry']\").text.replace(\"\\n\", \" \")\n",
    "                        print(title)\n",
    "                        print(date)\n",
    "                        print(rating)\n",
    "                        print(review)\n",
    "                        print(\"-----------\")\n",
    "                    except NoSuchElementException:\n",
    "                        print(\"Didn't found item \",j, \", but it should be there.\")\n",
    "                k=i\n",
    "                # change the page\n",
    "                self.driver.find_element(By.XPATH,'.//a[@class=\"nav next ui_button primary\"]').click()\n",
    "        except NoSuchElementException:\n",
    "            print(\"Oops, unlucky search!\")\n",
    "        except TimeoutException:\n",
    "            print(\"You run out of time!\")\n",
    "        finally:\n",
    "            for i in (0,k-1):\n",
    "                self.driver.execute_script(\"window.history.go(-1)\")\n",
    "\n",
    "    def quit_browser(self):\n",
    "        self.driver.quit()\n"
   ]
  },
  {
   "cell_type": "code",
   "execution_count": 47,
   "metadata": {},
   "outputs": [
    {
     "ename": "TypeError",
     "evalue": "'scraper' object is not callable",
     "output_type": "error",
     "traceback": [
      "\u001b[1;31m---------------------------------------------------------------------------\u001b[0m",
      "\u001b[1;31mTypeError\u001b[0m                                 Traceback (most recent call last)",
      "\u001b[1;32m~\\AppData\\Local\\Temp\\ipykernel_22536\\2905834757.py\u001b[0m in \u001b[0;36m<module>\u001b[1;34m\u001b[0m\n\u001b[1;32m----> 1\u001b[1;33m \u001b[0mscraper\u001b[0m \u001b[1;33m=\u001b[0m \u001b[0mscraper\u001b[0m\u001b[1;33m(\u001b[0m\u001b[0mPATH\u001b[0m\u001b[1;33m,\u001b[0m\u001b[0mURL_RESTAURANTS\u001b[0m\u001b[1;33m)\u001b[0m\u001b[1;33m\u001b[0m\u001b[1;33m\u001b[0m\u001b[0m\n\u001b[0m\u001b[0;32m      2\u001b[0m \u001b[0mscraper\u001b[0m\u001b[1;33m.\u001b[0m\u001b[0mopen_browser\u001b[0m\u001b[1;33m(\u001b[0m\u001b[1;33m)\u001b[0m\u001b[1;33m\u001b[0m\u001b[1;33m\u001b[0m\u001b[0m\n\u001b[0;32m      3\u001b[0m scraper.select_establishments(\n\u001b[0;32m      4\u001b[0m     establishments=[\n\u001b[0;32m      5\u001b[0m         \u001b[0mestablishment\u001b[0m\u001b[1;33m(\u001b[0m\u001b[0melement\u001b[0m\u001b[1;33m.\u001b[0m\u001b[0mRESTAURANTS_ESTABLISHMENT_TYPE_CHECKBOX\u001b[0m\u001b[1;33m,\u001b[0m\u001b[0melement\u001b[0m\u001b[1;33m.\u001b[0m\u001b[0mRESTAURANTS_ESTABLISHMENT_TYPE_BUTTON\u001b[0m\u001b[1;33m,\u001b[0m\u001b[1;32mTrue\u001b[0m\u001b[1;33m)\u001b[0m\u001b[1;33m,\u001b[0m\u001b[1;33m\u001b[0m\u001b[1;33m\u001b[0m\u001b[0m\n",
      "\u001b[1;31mTypeError\u001b[0m: 'scraper' object is not callable"
     ]
    }
   ],
   "source": [
    "TripAdvisorScraper = TripAdvisorScraper(PATH,URL_RESTAURANTS)\n",
    "TripAdvisorScraper.open_browser()\n",
    "TripAdvisorScraper.select_establishments(\n",
    "    establishments=[\n",
    "        establishment(element.RESTAURANTS_ESTABLISHMENT_TYPE_CHECKBOX,element.RESTAURANTS_ESTABLISHMENT_TYPE_BUTTON,True),\n",
    "        establishment(element.COFFEE_AND_TEA_ESTABLISHMENT_TYPE_CHECKBOX,element.COFFEE_AND_TEA_ESTABLISHMENT_TYPE_BUTTON,False),\n",
    "        establishment(element.BARS_ESTABLISHMENT_TYPE_CHECKBOX,element.BARS_ESTABLISHMENT_TYPE_BUTTON,False)\n",
    "    ]\n",
    ")\n",
    "TripAdvisorScraper.loop_at_rest()\n",
    "# TripAdvisorScraper.get_reviews()\n",
    "# TripAdvisorScraper.quit_browser()"
   ]
  },
  {
   "cell_type": "code",
   "execution_count": null,
   "metadata": {},
   "outputs": [],
   "source": [
    "scraper.quit_browser()"
   ]
  }
 ],
 "metadata": {
  "kernelspec": {
   "display_name": "Python 3",
   "language": "python",
   "name": "python3"
  },
  "language_info": {
   "codemirror_mode": {
    "name": "ipython",
    "version": 3
   },
   "file_extension": ".py",
   "mimetype": "text/x-python",
   "name": "python",
   "nbconvert_exporter": "python",
   "pygments_lexer": "ipython3",
   "version": "3.7.4"
  }
 },
 "nbformat": 4,
 "nbformat_minor": 4
}
