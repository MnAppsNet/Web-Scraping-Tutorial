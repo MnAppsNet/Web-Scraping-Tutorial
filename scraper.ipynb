{
 "cells": [
  {
   "cell_type": "markdown",
   "metadata": {},
   "source": [
    "# Web Scraper for trip advisor"
   ]
  },
  {
   "cell_type": "markdown",
   "metadata": {},
   "source": [
    "## Prerequisites"
   ]
  },
  {
   "cell_type": "code",
   "execution_count": null,
   "metadata": {
    "vscode": {
     "languageId": "bat"
    }
   },
   "outputs": [],
   "source": [
    "pip install selenium"
   ]
  },
  {
   "cell_type": "markdown",
   "metadata": {},
   "source": [
    "## Imports"
   ]
  },
  {
   "cell_type": "code",
   "execution_count": 2,
   "metadata": {},
   "outputs": [],
   "source": [
    "import csv\n",
    "import time\n",
    "from selenium import webdriver\n",
    "from selenium.webdriver.common.by import By\n",
    "from selenium.webdriver.support.ui import WebDriverWait\n",
    "from selenium.webdriver.support import expected_conditions as EC\n",
    "import time\n",
    "\n",
    "from selenium.common.exceptions import TimeoutException\n",
    "from selenium.common.exceptions import StaleElementReferenceException\n",
    "from selenium.common.exceptions import NoSuchElementException"
   ]
  },
  {
   "cell_type": "markdown",
   "metadata": {},
   "source": [
    "## Constants"
   ]
  },
  {
   "cell_type": "code",
   "execution_count": 3,
   "metadata": {},
   "outputs": [],
   "source": [
    "URL_RESTAURANTS = \"https://www.tripadvisor.com/Restaurants-g189473-Thessaloniki_Thessaloniki_Region_Central_Macedonia.html\"\n",
    "URL_ONE_CAFE = \"https://www.tripadvisor.com/Restaurant_Review-g189473-d3807291-Reviews-To_Tsai_Thessaloniki-Thessaloniki_Thessaloniki_Region_Central_Macedonia.html\"\n",
    "\n",
    "PATH = \"chromedriver.exe\""
   ]
  },
  {
   "cell_type": "markdown",
   "metadata": {},
   "source": [
    "## Custom tools"
   ]
  },
  {
   "cell_type": "code",
   "execution_count": 10,
   "metadata": {},
   "outputs": [],
   "source": [
    "class element:\n",
    "    COOKIES_ACCEPT_BUTTON = \"onetrust-accept-btn-handler\"\n",
    "    SHOW_MORE_ESTABLISHMENT_TYPES_BUTTON = \"fdmYH\"\n",
    "    RESTAURANTS_ESTABLISHMENT_TYPE_CHECKBOX = 'checkbox_3'\n",
    "    COFFEE_AND_TEA_ESTABLISHMENT_TYPE_CHECKBOX = 'checkbox_6'\n",
    "\n",
    "class scraper:\n",
    "    def __init__(self, path, url):\n",
    "        self.driver = webdriver.Chrome(PATH)\n",
    "        self.url = url\n",
    "\n",
    "    def open_browser(self):\n",
    "        self.driver.get(self.url) #Load URL\n",
    "        try:\n",
    "            cookies = WebDriverWait(self.driver, 20).until(\n",
    "                EC.presence_of_element_located((By.ID, element.COOKIES_ACCEPT_BUTTON))\n",
    "            )\n",
    "            cookies.click()\n",
    "        except:\n",
    "            print(\"No cookies! Impolite! Meh...\")\n",
    "\n",
    "    def loop_at_rest(self):\n",
    "        num_page = 2\n",
    "        for i in range(0, num_page):\n",
    "            num_items = 1\n",
    "            for j in range(1, num_items+1):\n",
    "                time.sleep(10)\n",
    "                xpath = \".//div[@data-test='\"+ str(j)+\"_list_item']\"\n",
    "                item = self.driver.find_element(By.XPATH, xpath)\n",
    "                url = item.find_element_by_xpath(\".//a[@class='bHGqj Cj b']\").get_attribute(\"href\")\n",
    "                self.driver.get(url)\n",
    "                self.get_reviews()\n",
    "#     def navigate_to_page():\n",
    "\n",
    "    def prepare_page(self):\n",
    "        # steps:\n",
    "        ## We are in restaurants\n",
    "        ### 1. press more\n",
    "        ### 2. unclick restaurants\n",
    "        ### 3. click on coffee and tea and bars.\n",
    "        try:\n",
    "            #there are other elements with the same class name, but this is the first one\n",
    "            more_button = WebDriverWait(self.driver, 20).until(\n",
    "                EC.presence_of_element_located((By.CLASS_NAME, element.SHOW_MORE_ESTABLISHMENT_TYPES_BUTTON))\n",
    "            )\n",
    "            more_button.click()\n",
    "        except:\n",
    "            pass\n",
    "\n",
    "        #if restaurants are checked then uncheck\n",
    "        try:\n",
    "            restaurant_checkbox = self.driver.find_element(By.ID, element.RESTAURANTS_ESTABLISHMENT_TYPE_CHECKBOX).is_selected()\n",
    "            if restaurant_checkbox:\n",
    "                self.driver.find_element(By.XPATH, f\".//label[@for='{element.RESTAURANTS_ESTABLISHMENT_TYPE_CHECKBOX}']\").click()\n",
    "        except:\n",
    "            print(\"Restaurant checkbox not found!\")\n",
    "\n",
    "        #check cafes\n",
    "        try:\n",
    "            cafes_checkbox = self.driver.find_element(By.ID, element.COFFEE_AND_TEA_ESTABLISHMENT_TYPE_CHECKBOX).is_selected()\n",
    "            if not cafes_checkbox:\n",
    "                self.driver.find_element(By.XPATH, f\".//label[@for='{element.COFFEE_AND_TEA_ESTABLISHMENT_TYPE_CHECKBOX}']\").click()\n",
    "        except:\n",
    "            print(\"Cafes checkbox not found!\")\n",
    "\n",
    "        #check bars\n",
    "        try:\n",
    "            bars_checkbox = self.driver.find_element(By.ID, \"checkbox_241\").is_selected()\n",
    "            if not bars_checkbox:\n",
    "                self.driver.find_element(By.XPATH, \".//label[@for='checkbox_241']\").click()\n",
    "        except:\n",
    "            print(\"Bars checkbox not found!\")\n",
    "\n",
    "    def get_reviews(self):\n",
    "        #num_page = 10\n",
    "        review_table = WebDriverWait(self.driver, 20).until(\n",
    "            EC.presence_of_element_located((By.ID, \"taplc_location_reviews_list_resp_rr_resp_0\"))\n",
    "        )\n",
    "        try:\n",
    "            reviews_no = self.driver.find_element(By.CLASS_NAME, \"reviews_header_count\").text\n",
    "            reviews_no = reviews_no.replace(\"(\", \"\")\n",
    "            reviews_no = int(reviews_no.replace(\")\", \"\"))\n",
    "            num_page = int(reviews_no / 10)\n",
    "            print(\"page = \",num_page)\n",
    "            k=0\n",
    "            for i in range(0, num_page):\n",
    "                # expand the review\n",
    "                time.sleep(4)\n",
    "                container = self.driver.find_elements(By.XPATH,\".//div[@class='review-container']\")\n",
    "                print(\"container \", len(container))\n",
    "                for j in range(len(container)):\n",
    "                    try:\n",
    "                        try:\n",
    "                            time.sleep(2)\n",
    "                            container[j].find_element_by_xpath(\"//span[@class='taLnk ulBlueLinks']\").click()\n",
    "                        except StaleElementReferenceException:\n",
    "                            print(\"Comment \",j, \" could be longer, but I will let that pass...\" )\n",
    "\n",
    "                        title = container[j].find_element_by_xpath(\".//span[@class='noQuotes']\").text\n",
    "                        date = container[j].find_element_by_xpath(\".//span[contains(@class, 'ratingDate')]\").get_attribute(\"title\")\n",
    "                        rating = container[j].find_element_by_xpath(\".//span[contains(@class, 'ui_bubble_rating bubble_')]\").get_attribute(\"class\").split(\"_\")[3]\n",
    "                        review = container[j].find_element_by_xpath(\".//p[@class='partial_entry']\").text.replace(\"\\n\", \" \")\n",
    "                        print(title)\n",
    "                        print(date)\n",
    "                        print(rating)\n",
    "                        print(review)\n",
    "                        print(\"-----------\")\n",
    "                    except NoSuchElementException:\n",
    "                        print(\"Didn't found item \",j, \", but it should be there.\")\n",
    "                k=i\n",
    "                # change the page\n",
    "                self.driver.find_element(By.XPATH,'.//a[@class=\"nav next ui_button primary\"]').click()\n",
    "        except NoSuchElementException:\n",
    "            print(\"Oops, unlucky search!\")\n",
    "        except TimeoutException:\n",
    "            print(\"You run out of time!\")\n",
    "        finally:\n",
    "            for i in (0,k):\n",
    "                driver.execute_script(\"window.history.go(-1)\")\n",
    "\n",
    "    def quit_browser(self):\n",
    "        self.driver.quit()\n"
   ]
  },
  {
   "cell_type": "code",
   "execution_count": 11,
   "metadata": {},
   "outputs": [
    {
     "name": "stderr",
     "output_type": "stream",
     "text": [
      "C:\\Program Files\\Python37\\lib\\site-packages\\ipykernel_launcher.py:6: DeprecationWarning: executable_path has been deprecated, please pass in a Service object\n",
      "  \n"
     ]
    }
   ],
   "source": [
    "scraper = scraper(PATH,URL_RESTAURANTS)\n",
    "scraper.open_browser()\n",
    "scraper.prepare_page()\n",
    "scraper.loop_at_rest()\n",
    "# scraper.get_reviews()\n",
    "# scraper.quit_browser()"
   ]
  },
  {
   "cell_type": "code",
   "execution_count": null,
   "metadata": {},
   "outputs": [],
   "source": [
    "scraper.quit_browser()"
   ]
  }
 ],
 "metadata": {
  "kernelspec": {
   "display_name": "Python 3",
   "language": "python",
   "name": "python3"
  },
  "language_info": {
   "codemirror_mode": {
    "name": "ipython",
    "version": 3
   },
   "file_extension": ".py",
   "mimetype": "text/x-python",
   "name": "python",
   "nbconvert_exporter": "python",
   "pygments_lexer": "ipython3",
   "version": "3.7.4"
  }
 },
 "nbformat": 4,
 "nbformat_minor": 4
}
