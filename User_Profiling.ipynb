{
 "cells": [
  {
   "cell_type": "code",
   "execution_count": 1,
   "metadata": {},
   "outputs": [],
   "source": [
    "from pymongo import MongoClient\n",
    "import pandas as pd"
   ]
  },
  {
   "cell_type": "code",
   "execution_count": 2,
   "metadata": {},
   "outputs": [],
   "source": [
    "client = MongoClient(port=27017)\n",
    "db = client.trip_advisor\n",
    "collection = db.reviews\n",
    "df = pd.DataFrame(list(collection.find()))"
   ]
  },
  {
   "cell_type": "code",
   "execution_count": 3,
   "metadata": {},
   "outputs": [
    {
     "data": {
      "text/html": [
       "<div>\n",
       "<style scoped>\n",
       "    .dataframe tbody tr th:only-of-type {\n",
       "        vertical-align: middle;\n",
       "    }\n",
       "\n",
       "    .dataframe tbody tr th {\n",
       "        vertical-align: top;\n",
       "    }\n",
       "\n",
       "    .dataframe thead th {\n",
       "        text-align: right;\n",
       "    }\n",
       "</style>\n",
       "<table border=\"1\" class=\"dataframe\">\n",
       "  <thead>\n",
       "    <tr style=\"text-align: right;\">\n",
       "      <th></th>\n",
       "      <th>_id</th>\n",
       "      <th>poi_name</th>\n",
       "      <th>title</th>\n",
       "      <th>date</th>\n",
       "      <th>review_rating</th>\n",
       "      <th>text</th>\n",
       "      <th>date_of_visit</th>\n",
       "      <th>reviewer</th>\n",
       "    </tr>\n",
       "  </thead>\n",
       "  <tbody>\n",
       "    <tr>\n",
       "      <th>count</th>\n",
       "      <td>640</td>\n",
       "      <td>640</td>\n",
       "      <td>640</td>\n",
       "      <td>640</td>\n",
       "      <td>640</td>\n",
       "      <td>640</td>\n",
       "      <td>640</td>\n",
       "      <td>640</td>\n",
       "    </tr>\n",
       "    <tr>\n",
       "      <th>unique</th>\n",
       "      <td>640</td>\n",
       "      <td>23</td>\n",
       "      <td>616</td>\n",
       "      <td>517</td>\n",
       "      <td>5</td>\n",
       "      <td>639</td>\n",
       "      <td>99</td>\n",
       "      <td>599</td>\n",
       "    </tr>\n",
       "    <tr>\n",
       "      <th>top</th>\n",
       "      <td>{'id': '620261466', 'poi_location_id': '116439...</td>\n",
       "      <td>Koukos</td>\n",
       "      <td>Excellent</td>\n",
       "      <td>February 28, 2022</td>\n",
       "      <td>50</td>\n",
       "      <td>I went there to get a salad, staff really trie...</td>\n",
       "      <td>May 2019</td>\n",
       "      <td>{'name': 'REDMAN', 'handle': 'REDMAN5314', 'lo...</td>\n",
       "    </tr>\n",
       "    <tr>\n",
       "      <th>freq</th>\n",
       "      <td>1</td>\n",
       "      <td>86</td>\n",
       "      <td>6</td>\n",
       "      <td>9</td>\n",
       "      <td>495</td>\n",
       "      <td>2</td>\n",
       "      <td>19</td>\n",
       "      <td>4</td>\n",
       "    </tr>\n",
       "  </tbody>\n",
       "</table>\n",
       "</div>"
      ],
      "text/plain": [
       "                                                      _id poi_name      title  \\\n",
       "count                                                 640      640        640   \n",
       "unique                                                640       23        616   \n",
       "top     {'id': '620261466', 'poi_location_id': '116439...   Koukos  Excellent   \n",
       "freq                                                    1       86          6   \n",
       "\n",
       "                     date review_rating  \\\n",
       "count                 640           640   \n",
       "unique                517             5   \n",
       "top     February 28, 2022            50   \n",
       "freq                    9           495   \n",
       "\n",
       "                                                     text date_of_visit  \\\n",
       "count                                                 640           640   \n",
       "unique                                                639            99   \n",
       "top     I went there to get a salad, staff really trie...      May 2019   \n",
       "freq                                                    2            19   \n",
       "\n",
       "                                                 reviewer  \n",
       "count                                                 640  \n",
       "unique                                                599  \n",
       "top     {'name': 'REDMAN', 'handle': 'REDMAN5314', 'lo...  \n",
       "freq                                                    4  "
      ]
     },
     "execution_count": 3,
     "metadata": {},
     "output_type": "execute_result"
    }
   ],
   "source": [
    "df.describe()"
   ]
  },
  {
   "cell_type": "code",
   "execution_count": 4,
   "metadata": {},
   "outputs": [
    {
     "name": "stdout",
     "output_type": "stream",
     "text": [
      "Missing values are present: False\n"
     ]
    }
   ],
   "source": [
    "print(f\"Missing values are present: {df.isnull().sum().any()}\")"
   ]
  },
  {
   "cell_type": "code",
   "execution_count": 20,
   "metadata": {},
   "outputs": [
    {
     "data": {
      "text/plain": [
       "152"
      ]
     },
     "execution_count": 20,
     "metadata": {},
     "output_type": "execute_result"
    }
   ],
   "source": [
    "# Create subset of users with age group info\n",
    "age_subset = []\n",
    "\n",
    "for item in collection.find():\n",
    "    reviewer = item['reviewer']\n",
    "    try:\n",
    "        age_group = reviewer['age']\n",
    "        age_subset.append(item)\n",
    "    except:\n",
    "        None\n",
    "\n",
    "len(age_subset)"
   ]
  },
  {
   "cell_type": "code",
   "execution_count": 21,
   "metadata": {},
   "outputs": [
    {
     "data": {
      "text/plain": [
       "192"
      ]
     },
     "execution_count": 21,
     "metadata": {},
     "output_type": "execute_result"
    }
   ],
   "source": [
    "# Create subset of users with gender info\n",
    "gender_subset = []\n",
    "\n",
    "for item in collection.find():\n",
    "    reviewer = item['reviewer']\n",
    "    try:\n",
    "        gender_group = reviewer['sex']\n",
    "        gender_subset.append(item)\n",
    "    except:\n",
    "        None\n",
    "\n",
    "len(gender_subset)"
   ]
  }
 ],
 "metadata": {
  "interpreter": {
   "hash": "fcf1d46d271c46101d6967829d4a5f475342a2ce08e4944f989fbcdc9bb23690"
  },
  "kernelspec": {
   "display_name": "Python 3.9.0 64-bit",
   "language": "python",
   "name": "python3"
  },
  "language_info": {
   "codemirror_mode": {
    "name": "ipython",
    "version": 3
   },
   "file_extension": ".py",
   "mimetype": "text/x-python",
   "name": "python",
   "nbconvert_exporter": "python",
   "pygments_lexer": "ipython3",
   "version": "3.9.0"
  },
  "orig_nbformat": 4
 },
 "nbformat": 4,
 "nbformat_minor": 2
}
