{
 "cells": [
  {
   "cell_type": "code",
   "execution_count": 34,
   "metadata": {},
   "outputs": [],
   "source": [
    "from pymongo import MongoClient\n",
    "import pandas as pd"
   ]
  },
  {
   "cell_type": "code",
   "execution_count": 35,
   "metadata": {},
   "outputs": [],
   "source": [
    "client = MongoClient(port=27017)\n",
    "db = client.trip_advisor\n",
    "collection = db.reviews\n",
    "df = pd.DataFrame(list(collection.find()))"
   ]
  },
  {
   "cell_type": "code",
   "execution_count": 36,
   "metadata": {},
   "outputs": [
    {
     "data": {
      "text/html": [
       "<div>\n",
       "<style scoped>\n",
       "    .dataframe tbody tr th:only-of-type {\n",
       "        vertical-align: middle;\n",
       "    }\n",
       "\n",
       "    .dataframe tbody tr th {\n",
       "        vertical-align: top;\n",
       "    }\n",
       "\n",
       "    .dataframe thead th {\n",
       "        text-align: right;\n",
       "    }\n",
       "</style>\n",
       "<table border=\"1\" class=\"dataframe\">\n",
       "  <thead>\n",
       "    <tr style=\"text-align: right;\">\n",
       "      <th></th>\n",
       "      <th>_id</th>\n",
       "      <th>poi_name</th>\n",
       "      <th>title</th>\n",
       "      <th>date</th>\n",
       "      <th>review_rating</th>\n",
       "      <th>text</th>\n",
       "      <th>date_of_visit</th>\n",
       "      <th>reviewer</th>\n",
       "    </tr>\n",
       "  </thead>\n",
       "  <tbody>\n",
       "    <tr>\n",
       "      <th>count</th>\n",
       "      <td>530</td>\n",
       "      <td>530</td>\n",
       "      <td>530</td>\n",
       "      <td>530</td>\n",
       "      <td>530</td>\n",
       "      <td>530</td>\n",
       "      <td>530</td>\n",
       "      <td>530</td>\n",
       "    </tr>\n",
       "    <tr>\n",
       "      <th>unique</th>\n",
       "      <td>530</td>\n",
       "      <td>15</td>\n",
       "      <td>510</td>\n",
       "      <td>439</td>\n",
       "      <td>5</td>\n",
       "      <td>529</td>\n",
       "      <td>96</td>\n",
       "      <td>497</td>\n",
       "    </tr>\n",
       "    <tr>\n",
       "      <th>top</th>\n",
       "      <td>{'id': '620261466', 'poi_location_id': '116439...</td>\n",
       "      <td>Koukos</td>\n",
       "      <td>Best coffee in Thessaloniki</td>\n",
       "      <td>March 17, 2015</td>\n",
       "      <td>50</td>\n",
       "      <td>I went there to get a salad, staff really trie...</td>\n",
       "      <td>July 2016</td>\n",
       "      <td>{'name': 'REDMAN', 'handle': 'REDMAN5314', 'lo...</td>\n",
       "    </tr>\n",
       "    <tr>\n",
       "      <th>freq</th>\n",
       "      <td>1</td>\n",
       "      <td>86</td>\n",
       "      <td>5</td>\n",
       "      <td>5</td>\n",
       "      <td>402</td>\n",
       "      <td>2</td>\n",
       "      <td>17</td>\n",
       "      <td>4</td>\n",
       "    </tr>\n",
       "  </tbody>\n",
       "</table>\n",
       "</div>"
      ],
      "text/plain": [
       "                                                      _id poi_name  \\\n",
       "count                                                 530      530   \n",
       "unique                                                530       15   \n",
       "top     {'id': '620261466', 'poi_location_id': '116439...   Koukos   \n",
       "freq                                                    1       86   \n",
       "\n",
       "                              title            date review_rating  \\\n",
       "count                           530             530           530   \n",
       "unique                          510             439             5   \n",
       "top     Best coffee in Thessaloniki  March 17, 2015            50   \n",
       "freq                              5               5           402   \n",
       "\n",
       "                                                     text date_of_visit  \\\n",
       "count                                                 530           530   \n",
       "unique                                                529            96   \n",
       "top     I went there to get a salad, staff really trie...     July 2016   \n",
       "freq                                                    2            17   \n",
       "\n",
       "                                                 reviewer  \n",
       "count                                                 530  \n",
       "unique                                                497  \n",
       "top     {'name': 'REDMAN', 'handle': 'REDMAN5314', 'lo...  \n",
       "freq                                                    4  "
      ]
     },
     "execution_count": 36,
     "metadata": {},
     "output_type": "execute_result"
    }
   ],
   "source": [
    "df.describe()"
   ]
  },
  {
   "cell_type": "code",
   "execution_count": 37,
   "metadata": {},
   "outputs": [
    {
     "name": "stdout",
     "output_type": "stream",
     "text": [
      "Missing values are present: False\n"
     ]
    }
   ],
   "source": [
    "print(f\"Missing values are present: {df.isnull().sum().any()}\")"
   ]
  },
  {
   "cell_type": "code",
   "execution_count": null,
   "metadata": {},
   "outputs": [],
   "source": []
  }
 ],
 "metadata": {
  "interpreter": {
   "hash": "fcf1d46d271c46101d6967829d4a5f475342a2ce08e4944f989fbcdc9bb23690"
  },
  "kernelspec": {
   "display_name": "Python 3.9.0 64-bit",
   "language": "python",
   "name": "python3"
  },
  "language_info": {
   "codemirror_mode": {
    "name": "ipython",
    "version": 3
   },
   "file_extension": ".py",
   "mimetype": "text/x-python",
   "name": "python",
   "nbconvert_exporter": "python",
   "pygments_lexer": "ipython3",
   "version": "3.9.0"
  },
  "orig_nbformat": 4
 },
 "nbformat": 4,
 "nbformat_minor": 2
}
