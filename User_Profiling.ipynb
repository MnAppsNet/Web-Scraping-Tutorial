{
 "cells": [
  {
   "cell_type": "code",
   "execution_count": 1,
   "metadata": {},
   "outputs": [
    {
     "name": "stderr",
     "output_type": "stream",
     "text": [
      "[nltk_data] Downloading package stopwords to\n",
      "[nltk_data]     C:\\Users\\FF0x\\AppData\\Roaming\\nltk_data...\n",
      "[nltk_data]   Package stopwords is already up-to-date!\n"
     ]
    }
   ],
   "source": [
    "#Importing necessary libraries\n",
    "\n",
    "from pymongo import MongoClient\n",
    "import pandas as pd\n",
    "import matplotlib.pyplot as plt\n",
    "from sklearn.preprocessing import OneHotEncoder\n",
    "from sklearn.linear_model import LogisticRegression\n",
    "from sklearn.pipeline import make_pipeline\n",
    "from sklearn.model_selection import train_test_split, KFold\n",
    "from sklearn.preprocessing import PolynomialFeatures, StandardScaler\n",
    "from sklearn.neural_network import MLPClassifier\n",
    "from sklearn.svm import SVC\n",
    "from sklearn.tree import DecisionTreeClassifier\n",
    "from sklearn.ensemble import RandomForestClassifier\n",
    "from textblob import TextBlob\n",
    "\n",
    "\n",
    "import nltk\n",
    "nltk.download('stopwords')\n",
    "from nltk.corpus import stopwords\n",
    "from nltk.tokenize import word_tokenize\n",
    "\n",
    "from collections import Counter"
   ]
  },
  {
   "cell_type": "code",
   "execution_count": 2,
   "metadata": {},
   "outputs": [],
   "source": [
    "#Connecting to the Mongo Database to get the data\n",
    "\n",
    "client = MongoClient(port=27017)\n",
    "db = client.trip_advisor\n",
    "collection = db.reviews_new\n",
    "df = pd.DataFrame(list(collection.find()))"
   ]
  },
  {
   "cell_type": "code",
   "execution_count": 3,
   "metadata": {},
   "outputs": [
    {
     "data": {
      "text/html": [
       "<div>\n",
       "<style scoped>\n",
       "    .dataframe tbody tr th:only-of-type {\n",
       "        vertical-align: middle;\n",
       "    }\n",
       "\n",
       "    .dataframe tbody tr th {\n",
       "        vertical-align: top;\n",
       "    }\n",
       "\n",
       "    .dataframe thead th {\n",
       "        text-align: right;\n",
       "    }\n",
       "</style>\n",
       "<table border=\"1\" class=\"dataframe\">\n",
       "  <thead>\n",
       "    <tr style=\"text-align: right;\">\n",
       "      <th></th>\n",
       "      <th>_id</th>\n",
       "      <th>poi_name</th>\n",
       "      <th>title</th>\n",
       "      <th>date</th>\n",
       "      <th>review_rating</th>\n",
       "      <th>text</th>\n",
       "      <th>date_of_visit</th>\n",
       "      <th>reviewer</th>\n",
       "    </tr>\n",
       "  </thead>\n",
       "  <tbody>\n",
       "    <tr>\n",
       "      <th>0</th>\n",
       "      <td>{'id': '822488814', 'poi_location_id': '380729...</td>\n",
       "      <td>To Tsai Thessaloniki</td>\n",
       "      <td>Delicious tea, for tea lovers</td>\n",
       "      <td>December 19, 2021</td>\n",
       "      <td>50</td>\n",
       "      <td>If you are a tea lover , this is the place to ...</td>\n",
       "      <td>December 2021</td>\n",
       "      <td>{'name': 'Stefanos B', 'handle': 'stefanosb114...</td>\n",
       "    </tr>\n",
       "    <tr>\n",
       "      <th>1</th>\n",
       "      <td>{'id': '821022146', 'poi_location_id': '107988...</td>\n",
       "      <td>Koukos</td>\n",
       "      <td>Tasty croissants</td>\n",
       "      <td>December 4, 2021</td>\n",
       "      <td>50</td>\n",
       "      <td>The place has incredible decoration, very uniq...</td>\n",
       "      <td>October 2021</td>\n",
       "      <td>{'name': 'Jimmys', 'handle': 'Poliorkitis96', ...</td>\n",
       "    </tr>\n",
       "    <tr>\n",
       "      <th>2</th>\n",
       "      <td>{'id': '831588926', 'poi_location_id': '151171...</td>\n",
       "      <td>Judah Club</td>\n",
       "      <td>WOW!</td>\n",
       "      <td>March 18, 2022</td>\n",
       "      <td>50</td>\n",
       "      <td>Store and cafe - 5/5. Food and food presentati...</td>\n",
       "      <td>March 2022</td>\n",
       "      <td>{'name': 'Reza S', 'handle': '392rezas', 'cont...</td>\n",
       "    </tr>\n",
       "    <tr>\n",
       "      <th>3</th>\n",
       "      <td>{'id': '793282537', 'poi_location_id': '380729...</td>\n",
       "      <td>To Tsai Thessaloniki</td>\n",
       "      <td>Awesome place!</td>\n",
       "      <td>June 20, 2021</td>\n",
       "      <td>50</td>\n",
       "      <td>The staff was amazing, the tea sublime and the...</td>\n",
       "      <td>June 2021</td>\n",
       "      <td>{'name': 'Dee', 'handle': 'deesvs', 'location'...</td>\n",
       "    </tr>\n",
       "    <tr>\n",
       "      <th>4</th>\n",
       "      <td>{'id': '802555010', 'poi_location_id': '107988...</td>\n",
       "      <td>Koukos</td>\n",
       "      <td>Great pastry and sandwich shop</td>\n",
       "      <td>August 8, 2021</td>\n",
       "      <td>50</td>\n",
       "      <td>Went to this shop out of curiosity and to try ...</td>\n",
       "      <td>August 2021</td>\n",
       "      <td>{'name': 'Stefan Laurentiu', 'handle': 'stefan...</td>\n",
       "    </tr>\n",
       "  </tbody>\n",
       "</table>\n",
       "</div>"
      ],
      "text/plain": [
       "                                                 _id              poi_name  \\\n",
       "0  {'id': '822488814', 'poi_location_id': '380729...  To Tsai Thessaloniki   \n",
       "1  {'id': '821022146', 'poi_location_id': '107988...                Koukos   \n",
       "2  {'id': '831588926', 'poi_location_id': '151171...            Judah Club   \n",
       "3  {'id': '793282537', 'poi_location_id': '380729...  To Tsai Thessaloniki   \n",
       "4  {'id': '802555010', 'poi_location_id': '107988...                Koukos   \n",
       "\n",
       "                            title               date review_rating  \\\n",
       "0   Delicious tea, for tea lovers  December 19, 2021            50   \n",
       "1                Tasty croissants   December 4, 2021            50   \n",
       "2                            WOW!     March 18, 2022            50   \n",
       "3                  Awesome place!      June 20, 2021            50   \n",
       "4  Great pastry and sandwich shop     August 8, 2021            50   \n",
       "\n",
       "                                                text  date_of_visit  \\\n",
       "0  If you are a tea lover , this is the place to ...  December 2021   \n",
       "1  The place has incredible decoration, very uniq...   October 2021   \n",
       "2  Store and cafe - 5/5. Food and food presentati...     March 2022   \n",
       "3  The staff was amazing, the tea sublime and the...      June 2021   \n",
       "4  Went to this shop out of curiosity and to try ...    August 2021   \n",
       "\n",
       "                                            reviewer  \n",
       "0  {'name': 'Stefanos B', 'handle': 'stefanosb114...  \n",
       "1  {'name': 'Jimmys', 'handle': 'Poliorkitis96', ...  \n",
       "2  {'name': 'Reza S', 'handle': '392rezas', 'cont...  \n",
       "3  {'name': 'Dee', 'handle': 'deesvs', 'location'...  \n",
       "4  {'name': 'Stefan Laurentiu', 'handle': 'stefan...  "
      ]
     },
     "execution_count": 3,
     "metadata": {},
     "output_type": "execute_result"
    }
   ],
   "source": [
    "df.head()"
   ]
  },
  {
   "cell_type": "code",
   "execution_count": 4,
   "metadata": {},
   "outputs": [
    {
     "data": {
      "text/plain": [
       "331"
      ]
     },
     "execution_count": 4,
     "metadata": {},
     "output_type": "execute_result"
    }
   ],
   "source": [
    "# Create subset of users with age group info\n",
    "age_subset = []\n",
    "\n",
    "for item in collection.find():\n",
    "    reviewer = item['reviewer']\n",
    "    try:\n",
    "        age_group = reviewer['age']\n",
    "        age_subset.append(item)\n",
    "    except:\n",
    "        None\n",
    "\n",
    "len(age_subset)"
   ]
  },
  {
   "cell_type": "code",
   "execution_count": 5,
   "metadata": {},
   "outputs": [
    {
     "data": {
      "text/plain": [
       "419"
      ]
     },
     "execution_count": 5,
     "metadata": {},
     "output_type": "execute_result"
    }
   ],
   "source": [
    "# Create subset of users with gender info\n",
    "gender_subset = []\n",
    "\n",
    "for item in collection.find():\n",
    "    reviewer = item['reviewer']\n",
    "    try:\n",
    "        gender_group = reviewer['sex']\n",
    "        gender_subset.append(reviewer)\n",
    "        \n",
    "    except:\n",
    "        None\n",
    "\n",
    "len(gender_subset)"
   ]
  },
  {
   "cell_type": "code",
   "execution_count": 6,
   "metadata": {},
   "outputs": [],
   "source": [
    "def preprocess(ReviewText):\n",
    "    ReviewText = ReviewText.str.replace(\"(<br/>)\", \"\")\n",
    "    ReviewText = ReviewText.str.replace('(<a).*(>).*(</a>)', '')\n",
    "    ReviewText = ReviewText.str.replace('(&amp)', '')\n",
    "    ReviewText = ReviewText.str.replace('(&gt)', '')\n",
    "    ReviewText = ReviewText.str.replace('(&lt)', '')\n",
    "    ReviewText = ReviewText.str.replace('(\\xa0)', ' ')  \n",
    "    return ReviewText\n",
    "df['Review Text'] = preprocess(df['text'])\n",
    "\n",
    "df['polarity'] = df['Review Text'].map(lambda text: TextBlob(text).sentiment.polarity)"
   ]
  },
  {
   "cell_type": "code",
   "execution_count": 7,
   "metadata": {},
   "outputs": [
    {
     "data": {
      "text/html": [
       "<div>\n",
       "<style scoped>\n",
       "    .dataframe tbody tr th:only-of-type {\n",
       "        vertical-align: middle;\n",
       "    }\n",
       "\n",
       "    .dataframe tbody tr th {\n",
       "        vertical-align: top;\n",
       "    }\n",
       "\n",
       "    .dataframe thead th {\n",
       "        text-align: right;\n",
       "    }\n",
       "</style>\n",
       "<table border=\"1\" class=\"dataframe\">\n",
       "  <thead>\n",
       "    <tr style=\"text-align: right;\">\n",
       "      <th></th>\n",
       "      <th>_id</th>\n",
       "      <th>poi_name</th>\n",
       "      <th>title</th>\n",
       "      <th>date</th>\n",
       "      <th>review_rating</th>\n",
       "      <th>text</th>\n",
       "      <th>date_of_visit</th>\n",
       "      <th>reviewer</th>\n",
       "      <th>Review Text</th>\n",
       "      <th>polarity</th>\n",
       "    </tr>\n",
       "  </thead>\n",
       "  <tbody>\n",
       "    <tr>\n",
       "      <th>0</th>\n",
       "      <td>{'id': '822488814', 'poi_location_id': '380729...</td>\n",
       "      <td>To Tsai Thessaloniki</td>\n",
       "      <td>Delicious tea, for tea lovers</td>\n",
       "      <td>December 19, 2021</td>\n",
       "      <td>50</td>\n",
       "      <td>If you are a tea lover , this is the place to ...</td>\n",
       "      <td>December 2021</td>\n",
       "      <td>{'name': 'Stefanos B', 'handle': 'stefanosb114...</td>\n",
       "      <td>If you are a tea lover , this is the place to ...</td>\n",
       "      <td>0.800000</td>\n",
       "    </tr>\n",
       "    <tr>\n",
       "      <th>1</th>\n",
       "      <td>{'id': '821022146', 'poi_location_id': '107988...</td>\n",
       "      <td>Koukos</td>\n",
       "      <td>Tasty croissants</td>\n",
       "      <td>December 4, 2021</td>\n",
       "      <td>50</td>\n",
       "      <td>The place has incredible decoration, very uniq...</td>\n",
       "      <td>October 2021</td>\n",
       "      <td>{'name': 'Jimmys', 'handle': 'Poliorkitis96', ...</td>\n",
       "      <td>The place has incredible decoration, very uniq...</td>\n",
       "      <td>0.399500</td>\n",
       "    </tr>\n",
       "    <tr>\n",
       "      <th>2</th>\n",
       "      <td>{'id': '831588926', 'poi_location_id': '151171...</td>\n",
       "      <td>Judah Club</td>\n",
       "      <td>WOW!</td>\n",
       "      <td>March 18, 2022</td>\n",
       "      <td>50</td>\n",
       "      <td>Store and cafe - 5/5. Food and food presentati...</td>\n",
       "      <td>March 2022</td>\n",
       "      <td>{'name': 'Reza S', 'handle': '392rezas', 'cont...</td>\n",
       "      <td>Store and cafe - 5/5. Food and food presentati...</td>\n",
       "      <td>0.433333</td>\n",
       "    </tr>\n",
       "    <tr>\n",
       "      <th>3</th>\n",
       "      <td>{'id': '793282537', 'poi_location_id': '380729...</td>\n",
       "      <td>To Tsai Thessaloniki</td>\n",
       "      <td>Awesome place!</td>\n",
       "      <td>June 20, 2021</td>\n",
       "      <td>50</td>\n",
       "      <td>The staff was amazing, the tea sublime and the...</td>\n",
       "      <td>June 2021</td>\n",
       "      <td>{'name': 'Dee', 'handle': 'deesvs', 'location'...</td>\n",
       "      <td>The staff was amazing, the tea sublime and the...</td>\n",
       "      <td>0.466667</td>\n",
       "    </tr>\n",
       "    <tr>\n",
       "      <th>4</th>\n",
       "      <td>{'id': '802555010', 'poi_location_id': '107988...</td>\n",
       "      <td>Koukos</td>\n",
       "      <td>Great pastry and sandwich shop</td>\n",
       "      <td>August 8, 2021</td>\n",
       "      <td>50</td>\n",
       "      <td>Went to this shop out of curiosity and to try ...</td>\n",
       "      <td>August 2021</td>\n",
       "      <td>{'name': 'Stefan Laurentiu', 'handle': 'stefan...</td>\n",
       "      <td>Went to this shop out of curiosity and to try ...</td>\n",
       "      <td>0.350000</td>\n",
       "    </tr>\n",
       "  </tbody>\n",
       "</table>\n",
       "</div>"
      ],
      "text/plain": [
       "                                                 _id              poi_name  \\\n",
       "0  {'id': '822488814', 'poi_location_id': '380729...  To Tsai Thessaloniki   \n",
       "1  {'id': '821022146', 'poi_location_id': '107988...                Koukos   \n",
       "2  {'id': '831588926', 'poi_location_id': '151171...            Judah Club   \n",
       "3  {'id': '793282537', 'poi_location_id': '380729...  To Tsai Thessaloniki   \n",
       "4  {'id': '802555010', 'poi_location_id': '107988...                Koukos   \n",
       "\n",
       "                            title               date review_rating  \\\n",
       "0   Delicious tea, for tea lovers  December 19, 2021            50   \n",
       "1                Tasty croissants   December 4, 2021            50   \n",
       "2                            WOW!     March 18, 2022            50   \n",
       "3                  Awesome place!      June 20, 2021            50   \n",
       "4  Great pastry and sandwich shop     August 8, 2021            50   \n",
       "\n",
       "                                                text  date_of_visit  \\\n",
       "0  If you are a tea lover , this is the place to ...  December 2021   \n",
       "1  The place has incredible decoration, very uniq...   October 2021   \n",
       "2  Store and cafe - 5/5. Food and food presentati...     March 2022   \n",
       "3  The staff was amazing, the tea sublime and the...      June 2021   \n",
       "4  Went to this shop out of curiosity and to try ...    August 2021   \n",
       "\n",
       "                                            reviewer  \\\n",
       "0  {'name': 'Stefanos B', 'handle': 'stefanosb114...   \n",
       "1  {'name': 'Jimmys', 'handle': 'Poliorkitis96', ...   \n",
       "2  {'name': 'Reza S', 'handle': '392rezas', 'cont...   \n",
       "3  {'name': 'Dee', 'handle': 'deesvs', 'location'...   \n",
       "4  {'name': 'Stefan Laurentiu', 'handle': 'stefan...   \n",
       "\n",
       "                                         Review Text  polarity  \n",
       "0  If you are a tea lover , this is the place to ...  0.800000  \n",
       "1  The place has incredible decoration, very uniq...  0.399500  \n",
       "2  Store and cafe - 5/5. Food and food presentati...  0.433333  \n",
       "3  The staff was amazing, the tea sublime and the...  0.466667  \n",
       "4  Went to this shop out of curiosity and to try ...  0.350000  "
      ]
     },
     "execution_count": 7,
     "metadata": {},
     "output_type": "execute_result"
    }
   ],
   "source": [
    "df.head()"
   ]
  },
  {
   "cell_type": "code",
   "execution_count": 8,
   "metadata": {},
   "outputs": [
    {
     "name": "stdout",
     "output_type": "stream",
     "text": [
      "name                0\n",
      "handle              0\n",
      "location            0\n",
      "sex                 0\n",
      "contributions      26\n",
      "cities_visited     26\n",
      "age                98\n",
      "helpful_votes      50\n",
      "photo             149\n",
      "distribution       20\n",
      "text                0\n",
      "polarity            0\n",
      "dtype: int64\n"
     ]
    }
   ],
   "source": [
    "dataf = pd.DataFrame(gender_subset)\n",
    "\n",
    "dataf = dataf.join(df['text'])\n",
    "dataf = dataf.join(df['polarity'])\n",
    "print(dataf.isnull().sum())"
   ]
  },
  {
   "cell_type": "code",
   "execution_count": 9,
   "metadata": {},
   "outputs": [
    {
     "data": {
      "text/html": [
       "<div>\n",
       "<style scoped>\n",
       "    .dataframe tbody tr th:only-of-type {\n",
       "        vertical-align: middle;\n",
       "    }\n",
       "\n",
       "    .dataframe tbody tr th {\n",
       "        vertical-align: top;\n",
       "    }\n",
       "\n",
       "    .dataframe thead th {\n",
       "        text-align: right;\n",
       "    }\n",
       "</style>\n",
       "<table border=\"1\" class=\"dataframe\">\n",
       "  <thead>\n",
       "    <tr style=\"text-align: right;\">\n",
       "      <th></th>\n",
       "      <th>name</th>\n",
       "      <th>handle</th>\n",
       "      <th>location</th>\n",
       "      <th>sex</th>\n",
       "      <th>contributions</th>\n",
       "      <th>cities_visited</th>\n",
       "      <th>age</th>\n",
       "      <th>helpful_votes</th>\n",
       "      <th>photo</th>\n",
       "      <th>distribution</th>\n",
       "      <th>text</th>\n",
       "      <th>polarity</th>\n",
       "    </tr>\n",
       "  </thead>\n",
       "  <tbody>\n",
       "    <tr>\n",
       "      <th>0</th>\n",
       "      <td>Cynthia A</td>\n",
       "      <td>H9795OWcynthiaa</td>\n",
       "      <td>Varna, Bulgaria</td>\n",
       "      <td>woman</td>\n",
       "      <td>1.0</td>\n",
       "      <td>2.0</td>\n",
       "      <td>NaN</td>\n",
       "      <td>NaN</td>\n",
       "      <td>NaN</td>\n",
       "      <td>NaN</td>\n",
       "      <td>If you are a tea lover , this is the place to ...</td>\n",
       "      <td>0.800000</td>\n",
       "    </tr>\n",
       "    <tr>\n",
       "      <th>1</th>\n",
       "      <td>ClaireMWrangsjo</td>\n",
       "      <td>ClaireMWrangsjo</td>\n",
       "      <td>Stockholm, Sweden</td>\n",
       "      <td>woman</td>\n",
       "      <td>5.0</td>\n",
       "      <td>141.0</td>\n",
       "      <td>35-49</td>\n",
       "      <td>1.0</td>\n",
       "      <td>1.0</td>\n",
       "      <td>{'Excellent': 3, 'Very Good': 1, 'Average': 0,...</td>\n",
       "      <td>The place has incredible decoration, very uniq...</td>\n",
       "      <td>0.399500</td>\n",
       "    </tr>\n",
       "    <tr>\n",
       "      <th>2</th>\n",
       "      <td>Ken</td>\n",
       "      <td>KenS990</td>\n",
       "      <td>Stockholm, Sweden</td>\n",
       "      <td>man</td>\n",
       "      <td>61.0</td>\n",
       "      <td>24.0</td>\n",
       "      <td>35-49</td>\n",
       "      <td>42.0</td>\n",
       "      <td>179.0</td>\n",
       "      <td>{'Excellent': 35, 'Very Good': 20, 'Average': ...</td>\n",
       "      <td>Store and cafe - 5/5. Food and food presentati...</td>\n",
       "      <td>0.433333</td>\n",
       "    </tr>\n",
       "    <tr>\n",
       "      <th>3</th>\n",
       "      <td>MyIsla</td>\n",
       "      <td>MyIsla</td>\n",
       "      <td>Thessaloniki, Greece</td>\n",
       "      <td>woman</td>\n",
       "      <td>87.0</td>\n",
       "      <td>114.0</td>\n",
       "      <td>35-49</td>\n",
       "      <td>56.0</td>\n",
       "      <td>114.0</td>\n",
       "      <td>{'Excellent': 52, 'Very Good': 18, 'Average': ...</td>\n",
       "      <td>The staff was amazing, the tea sublime and the...</td>\n",
       "      <td>0.466667</td>\n",
       "    </tr>\n",
       "    <tr>\n",
       "      <th>4</th>\n",
       "      <td>Dekker51</td>\n",
       "      <td>Dekker51</td>\n",
       "      <td>THESSALONIKI, GREECE</td>\n",
       "      <td>man</td>\n",
       "      <td>88.0</td>\n",
       "      <td>131.0</td>\n",
       "      <td>25-34</td>\n",
       "      <td>59.0</td>\n",
       "      <td>18.0</td>\n",
       "      <td>{'Excellent': 22, 'Very Good': 51, 'Average': ...</td>\n",
       "      <td>Went to this shop out of curiosity and to try ...</td>\n",
       "      <td>0.350000</td>\n",
       "    </tr>\n",
       "  </tbody>\n",
       "</table>\n",
       "</div>"
      ],
      "text/plain": [
       "              name           handle              location    sex  \\\n",
       "0        Cynthia A  H9795OWcynthiaa       Varna, Bulgaria  woman   \n",
       "1  ClaireMWrangsjo  ClaireMWrangsjo     Stockholm, Sweden  woman   \n",
       "2              Ken          KenS990     Stockholm, Sweden    man   \n",
       "3           MyIsla           MyIsla  Thessaloniki, Greece  woman   \n",
       "4         Dekker51         Dekker51  THESSALONIKI, GREECE    man   \n",
       "\n",
       "   contributions  cities_visited    age  helpful_votes  photo  \\\n",
       "0            1.0             2.0    NaN            NaN    NaN   \n",
       "1            5.0           141.0  35-49            1.0    1.0   \n",
       "2           61.0            24.0  35-49           42.0  179.0   \n",
       "3           87.0           114.0  35-49           56.0  114.0   \n",
       "4           88.0           131.0  25-34           59.0   18.0   \n",
       "\n",
       "                                        distribution  \\\n",
       "0                                                NaN   \n",
       "1  {'Excellent': 3, 'Very Good': 1, 'Average': 0,...   \n",
       "2  {'Excellent': 35, 'Very Good': 20, 'Average': ...   \n",
       "3  {'Excellent': 52, 'Very Good': 18, 'Average': ...   \n",
       "4  {'Excellent': 22, 'Very Good': 51, 'Average': ...   \n",
       "\n",
       "                                                text  polarity  \n",
       "0  If you are a tea lover , this is the place to ...  0.800000  \n",
       "1  The place has incredible decoration, very uniq...  0.399500  \n",
       "2  Store and cafe - 5/5. Food and food presentati...  0.433333  \n",
       "3  The staff was amazing, the tea sublime and the...  0.466667  \n",
       "4  Went to this shop out of curiosity and to try ...  0.350000  "
      ]
     },
     "execution_count": 9,
     "metadata": {},
     "output_type": "execute_result"
    }
   ],
   "source": [
    "dataf.head()"
   ]
  },
  {
   "cell_type": "code",
   "execution_count": 10,
   "metadata": {},
   "outputs": [
    {
     "name": "stdout",
     "output_type": "stream",
     "text": [
      "name              0\n",
      "handle            0\n",
      "location          0\n",
      "sex               0\n",
      "contributions     0\n",
      "cities_visited    0\n",
      "age               0\n",
      "helpful_votes     0\n",
      "photo             0\n",
      "distribution      0\n",
      "text              0\n",
      "polarity          0\n",
      "dtype: int64\n"
     ]
    }
   ],
   "source": [
    "# Dealing with missing values\n",
    "\n",
    "updated_df = dataf.dropna(subset=['age'])\n",
    "updated_df = updated_df.reset_index(drop= True)\n",
    "\n",
    "updated_df['contributions']=updated_df['contributions'].fillna(updated_df['contributions'].mean())\n",
    "updated_df['contributions'] = updated_df['contributions'].apply(lambda x: round(x))\n",
    "\n",
    "updated_df['cities_visited']=updated_df['cities_visited'].fillna(updated_df['cities_visited'].mean())\n",
    "updated_df['cities_visited'] = updated_df['cities_visited'].apply(lambda x: round(x))\n",
    "\n",
    "updated_df['helpful_votes']=updated_df['helpful_votes'].fillna(updated_df['helpful_votes'].mean())\n",
    "updated_df['helpful_votes'] = updated_df['helpful_votes'].apply(lambda x: round(x))\n",
    "\n",
    "updated_df['photo']=updated_df['photo'].fillna(updated_df['photo'].mean())\n",
    "updated_df['photo'] = updated_df['photo'].apply(lambda x: round(x))\n",
    "\n",
    "updated_df.dropna(subset=['distribution'], inplace=True)\n",
    "updated_df = updated_df.reset_index(drop= True)\n",
    "#updated_df.info()\n",
    "\n",
    "print(updated_df.isnull().sum())"
   ]
  },
  {
   "cell_type": "code",
   "execution_count": 11,
   "metadata": {},
   "outputs": [],
   "source": [
    "# Dealing with Distributions \n",
    "\n",
    "from sklearn.feature_extraction import DictVectorizer\n",
    "vec = DictVectorizer()\n",
    "\n",
    "updated_df['distribution'].head()\n",
    "vec_df = vec.fit_transform(updated_df['distribution']).toarray()\n",
    "\n",
    "# creating a list of column names\n",
    "column_values = vec.get_feature_names()\n",
    "\n",
    "vec_df = pd.DataFrame(data = vec_df,columns= column_values)\n",
    "\n",
    "updated_df = updated_df.join(vec_df).drop(columns=['distribution'])"
   ]
  },
  {
   "cell_type": "code",
   "execution_count": 12,
   "metadata": {},
   "outputs": [],
   "source": [
    "#Add Linguistic features\n",
    "\n",
    "# Define a list of commonly found punctuations\n",
    "punctuation = ('!', \",\" ,\"\\'\" ,\";\" ,\"\\\"\", \".\", \"-\" ,\"?\")\n",
    "# Define a list of commonly found emojis\n",
    "emojis = ('🤣','👍','😭','🙏','😘','🥰','😍','😊','🤩')\n",
    "\n",
    "updated_df['punc_count'] = updated_df['text'].apply(lambda x : len([a for a in x if a in punctuation]))\n",
    "updated_df['capitals'] = updated_df['text'].apply(lambda comment: sum(1 for c in comment if c.isupper()))\n",
    "updated_df['num_exclamation_marks'] =updated_df['text'].apply(lambda x: x.count('!'))\n",
    "updated_df['num_question_marks'] = updated_df['text'].apply(lambda x: x.count('?'))\n",
    "updated_df['num_punctuation'] = updated_df['text'].apply(lambda x: sum(x.count(w) for w in punctuation))\n",
    "updated_df['num_emojis'] = updated_df['text'].apply(lambda x: sum(x.count(w) for w in emojis))\n"
   ]
  },
  {
   "cell_type": "code",
   "execution_count": 13,
   "metadata": {},
   "outputs": [
    {
     "name": "stdout",
     "output_type": "stream",
     "text": [
      "1 :  43\n",
      "2 :  24\n",
      "3 :  74\n",
      "4 :  271\n",
      "5 :  840\n"
     ]
    },
    {
     "name": "stderr",
     "output_type": "stream",
     "text": [
      "D:\\ProgramData\\Anaconda3\\lib\\site-packages\\pandas\\core\\indexing.py:671: SettingWithCopyWarning: \n",
      "A value is trying to be set on a copy of a slice from a DataFrame\n",
      "\n",
      "See the caveats in the documentation: https://pandas.pydata.org/pandas-docs/stable/user_guide/indexing.html#returning-a-view-versus-a-copy\n",
      "  self._setitem_with_indexer(indexer, value)\n"
     ]
    },
    {
     "data": {
      "text/plain": [
       "positive    276\n",
       "neutral      22\n",
       "negative     11\n",
       "Name: Sentiment, dtype: int64"
      ]
     },
     "execution_count": 13,
     "metadata": {},
     "output_type": "execute_result"
    }
   ],
   "source": [
    "#Add feature - Sentiment based on the user's ratings\n",
    "\n",
    "ratings = ['1','2','3','4','5']\n",
    "\n",
    "ratings_count = []\n",
    "for rating in ratings:\n",
    "    myquery = { \"review_rating\": { \"$regex\": f\"^{rating}\" } }\n",
    "    count = collection.count_documents(myquery)\n",
    "    ratings_count.append(count)\n",
    "    print(rating, ': ', count)\n",
    "\n",
    "# negative: ratings below 4\n",
    "# neutral: ratings equal to 4\n",
    "# positive: ratings equal to 5\n",
    "\n",
    "neutral_range = {\"low\": 40, \"high\": 50}\n",
    "updated_df[\"Sentiment\"] = \"neutral\"\n",
    "updated_df[\"Sentiment\"].loc[df[\"review_rating\"].astype(int) < neutral_range[\"low\"]] = \"negative\"\n",
    "updated_df[\"Sentiment\"].loc[df[\"review_rating\"].astype(int) >= neutral_range[\"high\"]] = \"positive\"\n",
    "updated_df['Sentiment'].value_counts()\n"
   ]
  },
  {
   "cell_type": "code",
   "execution_count": 14,
   "metadata": {},
   "outputs": [
    {
     "data": {
      "text/html": [
       "<div>\n",
       "<style scoped>\n",
       "    .dataframe tbody tr th:only-of-type {\n",
       "        vertical-align: middle;\n",
       "    }\n",
       "\n",
       "    .dataframe tbody tr th {\n",
       "        vertical-align: top;\n",
       "    }\n",
       "\n",
       "    .dataframe thead th {\n",
       "        text-align: right;\n",
       "    }\n",
       "</style>\n",
       "<table border=\"1\" class=\"dataframe\">\n",
       "  <thead>\n",
       "    <tr style=\"text-align: right;\">\n",
       "      <th></th>\n",
       "      <th>name</th>\n",
       "      <th>handle</th>\n",
       "      <th>location</th>\n",
       "      <th>sex</th>\n",
       "      <th>contributions</th>\n",
       "      <th>cities_visited</th>\n",
       "      <th>helpful_votes</th>\n",
       "      <th>photo</th>\n",
       "      <th>text</th>\n",
       "      <th>polarity</th>\n",
       "      <th>...</th>\n",
       "      <th>num_punctuation</th>\n",
       "      <th>num_emojis</th>\n",
       "      <th>0</th>\n",
       "      <th>1</th>\n",
       "      <th>2</th>\n",
       "      <th>3</th>\n",
       "      <th>4</th>\n",
       "      <th>5</th>\n",
       "      <th>6</th>\n",
       "      <th>7</th>\n",
       "    </tr>\n",
       "  </thead>\n",
       "  <tbody>\n",
       "    <tr>\n",
       "      <th>0</th>\n",
       "      <td>ClaireMWrangsjo</td>\n",
       "      <td>ClaireMWrangsjo</td>\n",
       "      <td>Stockholm, Sweden</td>\n",
       "      <td>woman</td>\n",
       "      <td>5</td>\n",
       "      <td>141</td>\n",
       "      <td>1</td>\n",
       "      <td>1</td>\n",
       "      <td>The place has incredible decoration, very uniq...</td>\n",
       "      <td>0.399500</td>\n",
       "      <td>...</td>\n",
       "      <td>12</td>\n",
       "      <td>0</td>\n",
       "      <td>0.0</td>\n",
       "      <td>0.0</td>\n",
       "      <td>1.0</td>\n",
       "      <td>0.0</td>\n",
       "      <td>0.0</td>\n",
       "      <td>0.0</td>\n",
       "      <td>0.0</td>\n",
       "      <td>1.0</td>\n",
       "    </tr>\n",
       "    <tr>\n",
       "      <th>1</th>\n",
       "      <td>Ken</td>\n",
       "      <td>KenS990</td>\n",
       "      <td>Stockholm, Sweden</td>\n",
       "      <td>man</td>\n",
       "      <td>61</td>\n",
       "      <td>24</td>\n",
       "      <td>42</td>\n",
       "      <td>179</td>\n",
       "      <td>Store and cafe - 5/5. Food and food presentati...</td>\n",
       "      <td>0.433333</td>\n",
       "      <td>...</td>\n",
       "      <td>10</td>\n",
       "      <td>0</td>\n",
       "      <td>0.0</td>\n",
       "      <td>0.0</td>\n",
       "      <td>1.0</td>\n",
       "      <td>0.0</td>\n",
       "      <td>0.0</td>\n",
       "      <td>0.0</td>\n",
       "      <td>0.0</td>\n",
       "      <td>1.0</td>\n",
       "    </tr>\n",
       "    <tr>\n",
       "      <th>2</th>\n",
       "      <td>MyIsla</td>\n",
       "      <td>MyIsla</td>\n",
       "      <td>Thessaloniki, Greece</td>\n",
       "      <td>woman</td>\n",
       "      <td>87</td>\n",
       "      <td>114</td>\n",
       "      <td>56</td>\n",
       "      <td>114</td>\n",
       "      <td>The staff was amazing, the tea sublime and the...</td>\n",
       "      <td>0.466667</td>\n",
       "      <td>...</td>\n",
       "      <td>4</td>\n",
       "      <td>0</td>\n",
       "      <td>0.0</td>\n",
       "      <td>0.0</td>\n",
       "      <td>1.0</td>\n",
       "      <td>0.0</td>\n",
       "      <td>0.0</td>\n",
       "      <td>0.0</td>\n",
       "      <td>0.0</td>\n",
       "      <td>1.0</td>\n",
       "    </tr>\n",
       "    <tr>\n",
       "      <th>3</th>\n",
       "      <td>Dekker51</td>\n",
       "      <td>Dekker51</td>\n",
       "      <td>THESSALONIKI, GREECE</td>\n",
       "      <td>man</td>\n",
       "      <td>88</td>\n",
       "      <td>131</td>\n",
       "      <td>59</td>\n",
       "      <td>18</td>\n",
       "      <td>Went to this shop out of curiosity and to try ...</td>\n",
       "      <td>0.350000</td>\n",
       "      <td>...</td>\n",
       "      <td>3</td>\n",
       "      <td>0</td>\n",
       "      <td>0.0</td>\n",
       "      <td>1.0</td>\n",
       "      <td>0.0</td>\n",
       "      <td>0.0</td>\n",
       "      <td>0.0</td>\n",
       "      <td>0.0</td>\n",
       "      <td>0.0</td>\n",
       "      <td>1.0</td>\n",
       "    </tr>\n",
       "    <tr>\n",
       "      <th>4</th>\n",
       "      <td>enterjim</td>\n",
       "      <td>enterjim</td>\n",
       "      <td>Thessaloniki, Greece</td>\n",
       "      <td>man</td>\n",
       "      <td>24</td>\n",
       "      <td>52</td>\n",
       "      <td>5</td>\n",
       "      <td>5</td>\n",
       "      <td>Amazing food, sun is up was delicious and the ...</td>\n",
       "      <td>0.512500</td>\n",
       "      <td>...</td>\n",
       "      <td>2</td>\n",
       "      <td>0</td>\n",
       "      <td>0.0</td>\n",
       "      <td>0.0</td>\n",
       "      <td>1.0</td>\n",
       "      <td>0.0</td>\n",
       "      <td>0.0</td>\n",
       "      <td>0.0</td>\n",
       "      <td>0.0</td>\n",
       "      <td>1.0</td>\n",
       "    </tr>\n",
       "    <tr>\n",
       "      <th>...</th>\n",
       "      <td>...</td>\n",
       "      <td>...</td>\n",
       "      <td>...</td>\n",
       "      <td>...</td>\n",
       "      <td>...</td>\n",
       "      <td>...</td>\n",
       "      <td>...</td>\n",
       "      <td>...</td>\n",
       "      <td>...</td>\n",
       "      <td>...</td>\n",
       "      <td>...</td>\n",
       "      <td>...</td>\n",
       "      <td>...</td>\n",
       "      <td>...</td>\n",
       "      <td>...</td>\n",
       "      <td>...</td>\n",
       "      <td>...</td>\n",
       "      <td>...</td>\n",
       "      <td>...</td>\n",
       "      <td>...</td>\n",
       "      <td>...</td>\n",
       "    </tr>\n",
       "    <tr>\n",
       "      <th>304</th>\n",
       "      <td>daw75</td>\n",
       "      <td>daw75</td>\n",
       "      <td>Berlin, Germany</td>\n",
       "      <td>man</td>\n",
       "      <td>63</td>\n",
       "      <td>111</td>\n",
       "      <td>39</td>\n",
       "      <td>11</td>\n",
       "      <td>The decoration was fantastic and the view outs...</td>\n",
       "      <td>0.390741</td>\n",
       "      <td>...</td>\n",
       "      <td>5</td>\n",
       "      <td>0</td>\n",
       "      <td>0.0</td>\n",
       "      <td>0.0</td>\n",
       "      <td>1.0</td>\n",
       "      <td>0.0</td>\n",
       "      <td>0.0</td>\n",
       "      <td>0.0</td>\n",
       "      <td>0.0</td>\n",
       "      <td>1.0</td>\n",
       "    </tr>\n",
       "    <tr>\n",
       "      <th>305</th>\n",
       "      <td>Carol A S</td>\n",
       "      <td>carolas936</td>\n",
       "      <td>Marietta, Georgia</td>\n",
       "      <td>woman</td>\n",
       "      <td>157</td>\n",
       "      <td>125</td>\n",
       "      <td>82</td>\n",
       "      <td>123</td>\n",
       "      <td>They serve the best coffee I have tried in thi...</td>\n",
       "      <td>0.775000</td>\n",
       "      <td>...</td>\n",
       "      <td>2</td>\n",
       "      <td>0</td>\n",
       "      <td>0.0</td>\n",
       "      <td>0.0</td>\n",
       "      <td>0.0</td>\n",
       "      <td>1.0</td>\n",
       "      <td>0.0</td>\n",
       "      <td>0.0</td>\n",
       "      <td>0.0</td>\n",
       "      <td>1.0</td>\n",
       "    </tr>\n",
       "    <tr>\n",
       "      <th>306</th>\n",
       "      <td>Panagiotis Hatziioannou</td>\n",
       "      <td>P_Hatz98</td>\n",
       "      <td>Thessaloniki, Greece</td>\n",
       "      <td>man</td>\n",
       "      <td>9</td>\n",
       "      <td>2</td>\n",
       "      <td>1</td>\n",
       "      <td>2</td>\n",
       "      <td>We went there a Saturday noon and we had coffe...</td>\n",
       "      <td>0.408333</td>\n",
       "      <td>...</td>\n",
       "      <td>6</td>\n",
       "      <td>0</td>\n",
       "      <td>1.0</td>\n",
       "      <td>0.0</td>\n",
       "      <td>0.0</td>\n",
       "      <td>0.0</td>\n",
       "      <td>0.0</td>\n",
       "      <td>0.0</td>\n",
       "      <td>0.0</td>\n",
       "      <td>1.0</td>\n",
       "    </tr>\n",
       "    <tr>\n",
       "      <th>307</th>\n",
       "      <td>Evita S</td>\n",
       "      <td>evitaS_12</td>\n",
       "      <td>Thessaloniki, Greece</td>\n",
       "      <td>woman</td>\n",
       "      <td>905</td>\n",
       "      <td>204</td>\n",
       "      <td>82</td>\n",
       "      <td>123</td>\n",
       "      <td>Nice juice bar, large selection of fruits, smo...</td>\n",
       "      <td>0.387857</td>\n",
       "      <td>...</td>\n",
       "      <td>8</td>\n",
       "      <td>0</td>\n",
       "      <td>0.0</td>\n",
       "      <td>0.0</td>\n",
       "      <td>1.0</td>\n",
       "      <td>0.0</td>\n",
       "      <td>0.0</td>\n",
       "      <td>0.0</td>\n",
       "      <td>0.0</td>\n",
       "      <td>1.0</td>\n",
       "    </tr>\n",
       "    <tr>\n",
       "      <th>308</th>\n",
       "      <td>Joseph G</td>\n",
       "      <td>drjosephgerges</td>\n",
       "      <td>Lille, France</td>\n",
       "      <td>man</td>\n",
       "      <td>186</td>\n",
       "      <td>380</td>\n",
       "      <td>321</td>\n",
       "      <td>204</td>\n",
       "      <td>We came on a friday evening, the music was so ...</td>\n",
       "      <td>-0.187500</td>\n",
       "      <td>...</td>\n",
       "      <td>9</td>\n",
       "      <td>0</td>\n",
       "      <td>0.0</td>\n",
       "      <td>1.0</td>\n",
       "      <td>0.0</td>\n",
       "      <td>0.0</td>\n",
       "      <td>0.0</td>\n",
       "      <td>0.0</td>\n",
       "      <td>0.0</td>\n",
       "      <td>1.0</td>\n",
       "    </tr>\n",
       "  </tbody>\n",
       "</table>\n",
       "<p>309 rows × 29 columns</p>\n",
       "</div>"
      ],
      "text/plain": [
       "                        name           handle              location    sex  \\\n",
       "0            ClaireMWrangsjo  ClaireMWrangsjo     Stockholm, Sweden  woman   \n",
       "1                        Ken          KenS990     Stockholm, Sweden    man   \n",
       "2                     MyIsla           MyIsla  Thessaloniki, Greece  woman   \n",
       "3                   Dekker51         Dekker51  THESSALONIKI, GREECE    man   \n",
       "4                   enterjim         enterjim  Thessaloniki, Greece    man   \n",
       "..                       ...              ...                   ...    ...   \n",
       "304                    daw75            daw75       Berlin, Germany    man   \n",
       "305                Carol A S       carolas936     Marietta, Georgia  woman   \n",
       "306  Panagiotis Hatziioannou         P_Hatz98  Thessaloniki, Greece    man   \n",
       "307                  Evita S        evitaS_12  Thessaloniki, Greece  woman   \n",
       "308                 Joseph G   drjosephgerges         Lille, France    man   \n",
       "\n",
       "     contributions  cities_visited  helpful_votes  photo  \\\n",
       "0                5             141              1      1   \n",
       "1               61              24             42    179   \n",
       "2               87             114             56    114   \n",
       "3               88             131             59     18   \n",
       "4               24              52              5      5   \n",
       "..             ...             ...            ...    ...   \n",
       "304             63             111             39     11   \n",
       "305            157             125             82    123   \n",
       "306              9               2              1      2   \n",
       "307            905             204             82    123   \n",
       "308            186             380            321    204   \n",
       "\n",
       "                                                  text  polarity  ...  \\\n",
       "0    The place has incredible decoration, very uniq...  0.399500  ...   \n",
       "1    Store and cafe - 5/5. Food and food presentati...  0.433333  ...   \n",
       "2    The staff was amazing, the tea sublime and the...  0.466667  ...   \n",
       "3    Went to this shop out of curiosity and to try ...  0.350000  ...   \n",
       "4    Amazing food, sun is up was delicious and the ...  0.512500  ...   \n",
       "..                                                 ...       ...  ...   \n",
       "304  The decoration was fantastic and the view outs...  0.390741  ...   \n",
       "305  They serve the best coffee I have tried in thi...  0.775000  ...   \n",
       "306  We went there a Saturday noon and we had coffe...  0.408333  ...   \n",
       "307  Nice juice bar, large selection of fruits, smo...  0.387857  ...   \n",
       "308  We came on a friday evening, the music was so ... -0.187500  ...   \n",
       "\n",
       "     num_punctuation  num_emojis    0    1    2    3    4    5    6    7  \n",
       "0                 12           0  0.0  0.0  1.0  0.0  0.0  0.0  0.0  1.0  \n",
       "1                 10           0  0.0  0.0  1.0  0.0  0.0  0.0  0.0  1.0  \n",
       "2                  4           0  0.0  0.0  1.0  0.0  0.0  0.0  0.0  1.0  \n",
       "3                  3           0  0.0  1.0  0.0  0.0  0.0  0.0  0.0  1.0  \n",
       "4                  2           0  0.0  0.0  1.0  0.0  0.0  0.0  0.0  1.0  \n",
       "..               ...         ...  ...  ...  ...  ...  ...  ...  ...  ...  \n",
       "304                5           0  0.0  0.0  1.0  0.0  0.0  0.0  0.0  1.0  \n",
       "305                2           0  0.0  0.0  0.0  1.0  0.0  0.0  0.0  1.0  \n",
       "306                6           0  1.0  0.0  0.0  0.0  0.0  0.0  0.0  1.0  \n",
       "307                8           0  0.0  0.0  1.0  0.0  0.0  0.0  0.0  1.0  \n",
       "308                9           0  0.0  1.0  0.0  0.0  0.0  0.0  0.0  1.0  \n",
       "\n",
       "[309 rows x 29 columns]"
      ]
     },
     "execution_count": 14,
     "metadata": {},
     "output_type": "execute_result"
    }
   ],
   "source": [
    "# We will use one-hot-encoding to convert categorical data to numerical data\n",
    "categorical_data_cols = ['age','Sentiment']\n",
    "\n",
    "onehot_encoder = OneHotEncoder()\n",
    "\n",
    "onehot_encoder_df = pd.DataFrame(onehot_encoder.fit_transform(updated_df[categorical_data_cols]).toarray())\n",
    "\n",
    "updated_df = updated_df.join(onehot_encoder_df).drop(columns=categorical_data_cols)\n",
    "updated_df"
   ]
  },
  {
   "cell_type": "code",
   "execution_count": 15,
   "metadata": {},
   "outputs": [],
   "source": [
    "#X = updated_df.drop(['sex','name','handle','location','text','contributions','cities_visited','helpful_votes','photo'], axis = 1)\n",
    "X = updated_df.drop(['sex','name','handle','location','text'], axis = 1)\n",
    "y = updated_df['sex']"
   ]
  },
  {
   "cell_type": "code",
   "execution_count": 16,
   "metadata": {},
   "outputs": [],
   "source": [
    "X = StandardScaler().fit_transform(X)"
   ]
  },
  {
   "cell_type": "code",
   "execution_count": 17,
   "metadata": {},
   "outputs": [],
   "source": [
    "X_train, X_test, y_train, y_test = train_test_split(X, y, test_size=0.2, random_state=42)"
   ]
  },
  {
   "cell_type": "code",
   "execution_count": 18,
   "metadata": {},
   "outputs": [],
   "source": [
    "# Prepare cross-validation (cv)\n",
    "cv = KFold(n_splits = 5, random_state = None)\n",
    "\n",
    "# Performance\n",
    "p_score = lambda model, score: print('Performance of the %s model is %0.2f%%' % (model, score * 100))\n",
    "\n",
    "# Classifiers\n",
    "names = [\n",
    "    \"Logistic Regression\", \"Logistic Regression with Polynomial Hypotheses\",\n",
    "    \"Linear SVM\", \"RBF SVM\", \"Neural Net\", \"Decision Tree\",\"Random Forest\"\n",
    "    ]\n",
    "\n",
    "classifiers = [\n",
    "    LogisticRegression(solver='lbfgs', max_iter=1000),\n",
    "    make_pipeline(PolynomialFeatures(3), LogisticRegression(solver='lbfgs', max_iter=1000)),\n",
    "    SVC(kernel=\"linear\", C=0.025,max_iter=1000 ),\n",
    "    SVC(gamma=2, C=1,max_iter=1000),\n",
    "    MLPClassifier(alpha=1,max_iter=1000),\n",
    "    DecisionTreeClassifier(),\n",
    "    RandomForestClassifier(n_estimators=100)\n",
    "]"
   ]
  },
  {
   "cell_type": "code",
   "execution_count": 19,
   "metadata": {},
   "outputs": [],
   "source": [
    "# iterate over classifiers\n",
    "models = []\n",
    "trained_classifiers = []\n",
    "for name, clf in zip(names, classifiers):\n",
    "    scores = []\n",
    "    for train_indices, test_indices in cv.split(X):\n",
    "        clf.fit(X[train_indices], y[train_indices].ravel())\n",
    "        scores.append( clf.score(X_test, y_test.ravel()) )\n",
    "    \n",
    "    min_score = min(scores)\n",
    "    max_score = max(scores)\n",
    "    avg_score = sum(scores) / len(scores)\n",
    "    \n",
    "    trained_classifiers.append(clf)\n",
    "    models.append((name, min_score, max_score, avg_score))\n",
    "    \n",
    "fin_models = pd.DataFrame(models, columns = ['Name', 'Min Score', 'Max Score', 'Mean Score'])"
   ]
  },
  {
   "cell_type": "code",
   "execution_count": 20,
   "metadata": {},
   "outputs": [
    {
     "data": {
      "text/html": [
       "<div>\n",
       "<style scoped>\n",
       "    .dataframe tbody tr th:only-of-type {\n",
       "        vertical-align: middle;\n",
       "    }\n",
       "\n",
       "    .dataframe tbody tr th {\n",
       "        vertical-align: top;\n",
       "    }\n",
       "\n",
       "    .dataframe thead th {\n",
       "        text-align: right;\n",
       "    }\n",
       "</style>\n",
       "<table border=\"1\" class=\"dataframe\">\n",
       "  <thead>\n",
       "    <tr style=\"text-align: right;\">\n",
       "      <th></th>\n",
       "      <th>Name</th>\n",
       "      <th>Min Score</th>\n",
       "      <th>Max Score</th>\n",
       "      <th>Mean Score</th>\n",
       "    </tr>\n",
       "  </thead>\n",
       "  <tbody>\n",
       "    <tr>\n",
       "      <th>2</th>\n",
       "      <td>Linear SVM</td>\n",
       "      <td>0.516129</td>\n",
       "      <td>0.548387</td>\n",
       "      <td>0.532258</td>\n",
       "    </tr>\n",
       "    <tr>\n",
       "      <th>0</th>\n",
       "      <td>Logistic Regression</td>\n",
       "      <td>0.532258</td>\n",
       "      <td>0.612903</td>\n",
       "      <td>0.567742</td>\n",
       "    </tr>\n",
       "    <tr>\n",
       "      <th>4</th>\n",
       "      <td>Neural Net</td>\n",
       "      <td>0.709677</td>\n",
       "      <td>0.790323</td>\n",
       "      <td>0.758065</td>\n",
       "    </tr>\n",
       "    <tr>\n",
       "      <th>1</th>\n",
       "      <td>Logistic Regression with Polynomial Hypotheses</td>\n",
       "      <td>0.838710</td>\n",
       "      <td>0.919355</td>\n",
       "      <td>0.887097</td>\n",
       "    </tr>\n",
       "    <tr>\n",
       "      <th>3</th>\n",
       "      <td>RBF SVM</td>\n",
       "      <td>0.838710</td>\n",
       "      <td>0.951613</td>\n",
       "      <td>0.906452</td>\n",
       "    </tr>\n",
       "    <tr>\n",
       "      <th>5</th>\n",
       "      <td>Decision Tree</td>\n",
       "      <td>0.887097</td>\n",
       "      <td>0.967742</td>\n",
       "      <td>0.929032</td>\n",
       "    </tr>\n",
       "    <tr>\n",
       "      <th>6</th>\n",
       "      <td>Random Forest</td>\n",
       "      <td>0.919355</td>\n",
       "      <td>0.983871</td>\n",
       "      <td>0.945161</td>\n",
       "    </tr>\n",
       "  </tbody>\n",
       "</table>\n",
       "</div>"
      ],
      "text/plain": [
       "                                             Name  Min Score  Max Score  \\\n",
       "2                                      Linear SVM   0.516129   0.548387   \n",
       "0                             Logistic Regression   0.532258   0.612903   \n",
       "4                                      Neural Net   0.709677   0.790323   \n",
       "1  Logistic Regression with Polynomial Hypotheses   0.838710   0.919355   \n",
       "3                                         RBF SVM   0.838710   0.951613   \n",
       "5                                   Decision Tree   0.887097   0.967742   \n",
       "6                                   Random Forest   0.919355   0.983871   \n",
       "\n",
       "   Mean Score  \n",
       "2    0.532258  \n",
       "0    0.567742  \n",
       "4    0.758065  \n",
       "1    0.887097  \n",
       "3    0.906452  \n",
       "5    0.929032  \n",
       "6    0.945161  "
      ]
     },
     "execution_count": 20,
     "metadata": {},
     "output_type": "execute_result"
    }
   ],
   "source": [
    "#So our experimental research says that the Random Forest performs the best\n",
    "fin_models.sort_values(['Mean Score'])"
   ]
  },
  {
   "cell_type": "markdown",
   "metadata": {},
   "source": [
    "# Question 1 - Calculate the percentage of each class (e.g., male vs. female or age groups) in your training data users and in the whole dataset (after you use your model for prediction)"
   ]
  },
  {
   "cell_type": "code",
   "execution_count": 21,
   "metadata": {},
   "outputs": [
    {
     "data": {
      "text/plain": [
       "man      0.554656\n",
       "woman    0.445344\n",
       "Name: sex, dtype: float64"
      ]
     },
     "execution_count": 21,
     "metadata": {},
     "output_type": "execute_result"
    }
   ],
   "source": [
    "# Percentage of each class in the training data users\n",
    "y_train.value_counts(normalize=True) "
   ]
  },
  {
   "cell_type": "code",
   "execution_count": 42,
   "metadata": {},
   "outputs": [],
   "source": [
    "# Create Random Forest classifer object\n",
    "test_clf = RandomForestClassifier(n_estimators=1000) \n",
    "\n",
    "#Fit/Train the model using the training sets\n",
    "test_clf.fit(X_train, y_train)\n",
    "\n",
    "#Predict the response for test dataset\n",
    "y_pred = test_clf.predict(X_test)\n"
   ]
  },
  {
   "cell_type": "code",
   "execution_count": 43,
   "metadata": {},
   "outputs": [
    {
     "data": {
      "text/plain": [
       "man      0.564516\n",
       "woman    0.435484\n",
       "Name: 0, dtype: float64"
      ]
     },
     "execution_count": 43,
     "metadata": {},
     "output_type": "execute_result"
    }
   ],
   "source": [
    "# Percentage of each class in the dataset after model prediction\n",
    "y_pred = pd.DataFrame(data = y_pred)\n",
    "\n",
    "#y_pred\n",
    "y_pred[0].value_counts(normalize=True)"
   ]
  },
  {
   "cell_type": "markdown",
   "metadata": {},
   "source": [
    "# Question 2 - Visualize the most common words per class (e.g., male vs. female or age groups) and sentiment/polarity (negative vs. positive) in a bar chart or word cloud.\n"
   ]
  },
  {
   "cell_type": "code",
   "execution_count": 24,
   "metadata": {},
   "outputs": [],
   "source": [
    "woman_info = []\n",
    "man_info = []\n",
    "for item in collection.find():\n",
    "    reviewer = item['reviewer']\n",
    "    try:\n",
    "        sex = reviewer['sex']\n",
    "        if sex == 'woman':\n",
    "            woman_info.append(item)\n",
    "        elif sex == 'man':\n",
    "            man_info.append(item)    \n",
    "    except:\n",
    "        None\n",
    "\n",
    "woman_df = pd.DataFrame(data = woman_info)\n",
    "man_df = pd.DataFrame(data = man_info)"
   ]
  },
  {
   "cell_type": "code",
   "execution_count": 25,
   "metadata": {},
   "outputs": [
    {
     "data": {
      "image/png": "[encoded data removed]",
      "text/plain": [
       "<Figure size 432x288 with 1 Axes>"
      ]
     },
     "metadata": {
      "needs_background": "light"
     },
     "output_type": "display_data"
    }
   ],
   "source": [
    "#Most common words - Men\n",
    "\n",
    "topic_words = [ z.lower() for y in\n",
    "                   [ x.split() for x in man_df['text'] if isinstance(x, str)]\n",
    "                   for z in y]\n",
    "word_count_dict = dict(Counter(topic_words))\n",
    "popular_words = sorted(word_count_dict, key = word_count_dict.get, reverse = True)\n",
    "popular_words_nonstop = [w for w in popular_words if w not in stopwords.words(\"english\")]\n",
    "plt.barh(range(10), [word_count_dict[w] for w in reversed(popular_words_nonstop[0:10])])\n",
    "plt.yticks([x + 0.5 for x in range(10)], reversed(popular_words_nonstop[0:10]))\n",
    "plt.title(\"Most Commom Words for Men \")\n",
    "plt.show()"
   ]
  },
  {
   "cell_type": "code",
   "execution_count": 26,
   "metadata": {},
   "outputs": [
    {
     "data": {
      "image/png": "[encoded data removed]",
      "text/plain": [
       "<Figure size 432x288 with 1 Axes>"
      ]
     },
     "metadata": {
      "needs_background": "light"
     },
     "output_type": "display_data"
    }
   ],
   "source": [
    "#Most common words - Women\n",
    "\n",
    "topic_words = [ z.lower() for y in\n",
    "                   [ x.split() for x in woman_df['text'] if isinstance(x, str)]\n",
    "                   for z in y]\n",
    "word_count_dict = dict(Counter(topic_words))\n",
    "popular_words = sorted(word_count_dict, key = word_count_dict.get, reverse = True)\n",
    "popular_words_nonstop = [w for w in popular_words if w not in stopwords.words(\"english\")]\n",
    "plt.barh(range(10), [word_count_dict[w] for w in reversed(popular_words_nonstop[0:10])])\n",
    "plt.yticks([x + 0.5 for x in range(10)], reversed(popular_words_nonstop[0:10]))\n",
    "plt.title(\"Most Commom Words for Women \")\n",
    "plt.show()"
   ]
  },
  {
   "cell_type": "code",
   "execution_count": 27,
   "metadata": {},
   "outputs": [],
   "source": [
    "positive = []\n",
    "negative = []\n",
    "\n",
    "list = updated_df.values.tolist()\n",
    "\n",
    "for item in list:\n",
    "    #print(item)\n",
    "    polarity = item[9]\n",
    "    if polarity > 0: \n",
    "        positive.append(item)\n",
    "    else : \n",
    "        negative.append(item)\n",
    "    \n",
    "positive_df = pd.DataFrame(data = positive)\n",
    "negative_df = pd.DataFrame(data = negative)"
   ]
  },
  {
   "cell_type": "code",
   "execution_count": 28,
   "metadata": {},
   "outputs": [
    {
     "data": {
      "image/png": "[encoded data removed]",
      "text/plain": [
       "<Figure size 432x288 with 1 Axes>"
      ]
     },
     "metadata": {
      "needs_background": "light"
     },
     "output_type": "display_data"
    }
   ],
   "source": [
    "#Most common words - Positive Polarity/ sentiment score\n",
    "\n",
    "topic_words = [ z.lower() for y in\n",
    "                   [ x.split() for x in positive_df[8] if isinstance(x, str)]\n",
    "                   for z in y]\n",
    "word_count_dict = dict(Counter(topic_words))\n",
    "popular_words = sorted(word_count_dict, key = word_count_dict.get, reverse = True)\n",
    "popular_words_nonstop = [w for w in popular_words if w not in stopwords.words(\"english\")]\n",
    "plt.barh(range(10), [word_count_dict[w] for w in reversed(popular_words_nonstop[0:10])])\n",
    "plt.yticks([x + 0.5 for x in range(10)], reversed(popular_words_nonstop[0:10]))\n",
    "plt.title(\"Most Commom Words for Positive sentiment/polarity score \")\n",
    "plt.show()"
   ]
  },
  {
   "cell_type": "code",
   "execution_count": 29,
   "metadata": {},
   "outputs": [
    {
     "data": {
      "image/png": "[encoded data removed]",
      "text/plain": [
       "<Figure size 432x288 with 1 Axes>"
      ]
     },
     "metadata": {
      "needs_background": "light"
     },
     "output_type": "display_data"
    }
   ],
   "source": [
    "#Most common words - Negative Polarity/ sentiment score\n",
    "\n",
    "topic_words = [ z.lower() for y in\n",
    "                   [ x.split() for x in negative_df[8] if isinstance(x, str)]\n",
    "                   for z in y]\n",
    "word_count_dict = dict(Counter(topic_words))\n",
    "popular_words = sorted(word_count_dict, key = word_count_dict.get, reverse = True)\n",
    "popular_words_nonstop = [w for w in popular_words if w not in stopwords.words(\"english\")]\n",
    "plt.barh(range(10), [word_count_dict[w] for w in reversed(popular_words_nonstop[0:10])])\n",
    "plt.yticks([x + 0.5 for x in range(10)], reversed(popular_words_nonstop[0:10]))\n",
    "plt.title(\"Most Commom Words for Negative sentiment/polarity score \")\n",
    "plt.show()"
   ]
  },
  {
   "cell_type": "markdown",
   "metadata": {},
   "source": [
    "# Question 3 - Create a box plot of user ratings visualizing the differences in ratings between user classes. Also, create a similar box plot for sentiment/polarity scores.\n"
   ]
  },
  {
   "cell_type": "code",
   "execution_count": 30,
   "metadata": {},
   "outputs": [
    {
     "data": {
      "image/png": "[encoded data removed]",
      "text/plain": [
       "<Figure size 432x288 with 1 Axes>"
      ]
     },
     "metadata": {
      "needs_background": "light"
     },
     "output_type": "display_data"
    }
   ],
   "source": [
    "# User ratings for men\n",
    "man2 = man_df['review_rating'].value_counts()\n",
    "\n",
    "import seaborn as sns\n",
    "\n",
    "plt.figure()\n",
    "sns.barplot(man2.index, man2.values, alpha=0.8)\n",
    "plt.title('User ratings of men')\n",
    "plt.ylabel('Number of Occurrences', fontsize=12)\n",
    "plt.xlabel('Ratings', fontsize=12)\n",
    "plt.show()"
   ]
  },
  {
   "cell_type": "code",
   "execution_count": 31,
   "metadata": {},
   "outputs": [
    {
     "data": {
      "image/png": "[encoded data removed]",
      "text/plain": [
       "<Figure size 432x288 with 1 Axes>"
      ]
     },
     "metadata": {
      "needs_background": "light"
     },
     "output_type": "display_data"
    }
   ],
   "source": [
    "# User ratings for women\n",
    "woman2 = woman_df['review_rating'].value_counts()\n",
    "\n",
    "sns.barplot(woman2.index, woman2.values, alpha=0.8)\n",
    "plt.title('User ratings of women')\n",
    "plt.ylabel('Number of Occurrences', fontsize=12)\n",
    "plt.xlabel('Ratings', fontsize=12)\n",
    "plt.show()\n"
   ]
  },
  {
   "cell_type": "code",
   "execution_count": 32,
   "metadata": {},
   "outputs": [],
   "source": [
    "# User ratings for each polarity \n",
    "\n",
    "y1 = df.loc[df['review_rating'] == '10']['polarity']\n",
    "y2 = df.loc[df['review_rating'] == '20']['polarity']\n",
    "y3 = df.loc[df['review_rating'] == '30']['polarity']\n",
    "y4 = df.loc[df['review_rating'] == '40']['polarity']\n",
    "y5 = df.loc[df['review_rating'] == '50']['polarity']"
   ]
  },
  {
   "cell_type": "code",
   "execution_count": 33,
   "metadata": {},
   "outputs": [
    {
     "data": {
      "application/vnd.plotly.v1+json": {
       "config": {
        "linkText": "Export to plot.ly",
        "plotlyServerURL": "https://plot.ly",
        "showLink": false
       },
       "data": [
        {
         "marker": {
          "color": "rgb(0, 128, 128)"
         },
         "name": "Rating 1-star",
         "type": "box",
         "y": [
          -0.11851851851851854,
          -0.03774038461538462,
          -0.03774038461538462,
          -0.1807449494949495,
          -0.19583333333333333,
          0.12835097001763668,
          0,
          0.014285714285714282,
          0,
          0.39537037037037037,
          0.5,
          0.16249999999999998,
          -0.3833333333333333,
          -0.4305555555555556,
          0.030357142857142878,
          0.07666666666666669,
          0.3625,
          -0.3499999999999999,
          -0.06333333333333332,
          -0.2462121212121212,
          -1,
          -0.06666666666666667,
          0.08666666666666667,
          0.1998015873015873,
          0.10714285714285714,
          0.475,
          -0.06212121212121211,
          -0.09861111111111111,
          0.05982905982905984,
          0.05555555555555555,
          -0.07790043290043289,
          -0.4937499999999999,
          0,
          0.1461038961038961,
          0,
          -0.5833333333333334,
          -0.2268642305407011,
          -0.19166666666666668,
          0,
          -0.175,
          0,
          0,
          -0.7
         ]
        },
        {
         "marker": {
          "color": "rgb(10, 140, 208)"
         },
         "name": "Rating 2-star",
         "type": "box",
         "y": [
          -0.20952380952380953,
          0.15,
          0.225,
          0,
          -0.1875,
          0.25277777777777777,
          -0.7549999999999999,
          -0.35000000000000003,
          0.07499999999999997,
          -0.06666666666666661,
          -0.3444444444444444,
          -0.03542857142857142,
          -0.18333333333333332,
          0.4,
          -0.02999999999999997,
          0.2673148148148148,
          -0.1220833333333333,
          0.043333333333333314,
          -0.125,
          0,
          0,
          0.30833333333333335,
          0.12678571428571428,
          -0.08333333333333333
         ]
        },
        {
         "marker": {
          "color": "rgb(12, 102, 14)"
         },
         "name": "Rating 3-star",
         "type": "box",
         "y": [
          0.06666666666666665,
          0.1375,
          0.430952380952381,
          -0.09166666666666666,
          0.20833333333333334,
          0.3061688311688312,
          0.08249999999999996,
          0.2528030303030303,
          0.29166666666666663,
          0.016666666666666646,
          0.31428571428571433,
          0.37,
          0.32135416666666666,
          0.22000000000000003,
          -0.08571428571428567,
          -0.390625,
          0.2909523809523809,
          0.39999999999999997,
          0.2021875,
          0.375,
          0.27545129349816844,
          0,
          0.18958333333333333,
          0.30277777777777776,
          0.5047619047619047,
          0.355952380952381,
          0.21198979591836734,
          0.05454545454545455,
          0.78,
          0.3779166666666666,
          0.28388888888888886,
          0.045000000000000005,
          0.3770833333333333,
          -0.03333333333333333,
          -0.05571428571428573,
          0.2946969696969697,
          0.3375,
          0.37476190476190474,
          0.08666666666666667,
          0.11000000000000001,
          0.14666666666666664,
          0.25333333333333335,
          -0.06270202020202022,
          0.24214285714285716,
          0.7000000000000001,
          0.25,
          0.15,
          -0.19213169642857147,
          0.34166666666666673,
          0.14793154761904764,
          0.5214285714285715,
          0.1346794871794872,
          0.5595238095238094,
          0.2357142857142857,
          0.26,
          -0.4666666666666666,
          0.15733333333333335,
          0.48000000000000004,
          0.13208333333333333,
          0.19115384615384617,
          0.1191269841269841,
          0.7525000000000001,
          0.2375,
          -0.0765625,
          -0.15,
          0,
          0.362,
          0.015624999999999993,
          0,
          0,
          0.0857142857142857,
          0.3416666666666666,
          0,
          0.19833333333333333
         ]
        },
        {
         "marker": {
          "color": "rgb(10, 0, 100)"
         },
         "name": "Rating 4-star",
         "type": "box",
         "y": [
          0.36875,
          0.215,
          0.19,
          0.6199999999999999,
          0.0904761904761905,
          0.5625,
          0.4166666666666667,
          0.12388888888888888,
          0.25780423280423276,
          0.13,
          0.17666666666666667,
          0.85,
          0.5666666666666667,
          0.671875,
          0.4099999999999999,
          0.5107142857142857,
          0.43142857142857144,
          0.5505555555555556,
          0.3611979166666666,
          0.26666666666666666,
          0.28144841269841264,
          0.584375,
          0.30238095238095236,
          0.45437500000000003,
          0.1571428571428571,
          0.47653061224489796,
          0.5125,
          0.5045,
          0.33825757575757576,
          0.22416666666666668,
          0.21868131868131865,
          0.39,
          0.29761904761904756,
          0.625,
          0.3857142857142857,
          0.5989583333333334,
          0.6464285714285715,
          0.04999999999999999,
          0.2075,
          0.11428571428571431,
          0.15699999999999997,
          0.175,
          -0.25,
          0.3907407407407407,
          0.34444444444444444,
          0.471875,
          0.10555555555555551,
          0.5125,
          0.2427083333333334,
          0.5166666666666666,
          0.2726190476190476,
          0.21363636363636365,
          0.562,
          0.26916666666666667,
          0.44333333333333336,
          0.13666666666666663,
          0.075,
          0.42000000000000004,
          0.21666666666666673,
          0.2025,
          0.34375,
          0.35,
          0.4666666666666666,
          0.14285714285714285,
          0.25,
          0.65,
          0.1733333333333333,
          0.3183333333333333,
          0.3,
          0.25833333333333336,
          0.30722222222222223,
          0.1883928571428571,
          0.24666666666666667,
          0.5305555555555556,
          0.3863888888888889,
          0.7033333333333333,
          0.7012499999999999,
          0.4691269841269841,
          0.4000000000000001,
          0.276,
          0.4514285714285714,
          -0.03333333333333333,
          0.25859788359788355,
          -0.09367283950617283,
          0.128125,
          0,
          0,
          0.2035164835164835,
          0,
          0.5125,
          0.6333333333333333,
          0.4026901669758813,
          0.36666666666666664,
          0.05347222222222222,
          0,
          0,
          0.4066666666666666,
          0.35714285714285715,
          -0.04999999999999999,
          0,
          0.4214285714285715,
          0.09249999999999999,
          0.49523809523809526,
          0,
          0.5766666666666667,
          0.54,
          0.1625,
          0,
          0.1025,
          0,
          0.3591666666666667,
          0,
          0.5,
          0.7883333333333333,
          0.23125,
          0.40208333333333335,
          0.22604166666666667,
          0.05974025974025973,
          0.39999999999999997,
          0.3513888888888889,
          0.30178571428571427,
          0.3458333333333333,
          0.30666666666666664,
          0.2896694214876033,
          0.3340909090909091,
          0.33096590909090906,
          0.2169047619047619,
          0.288125,
          0.41547619047619044,
          0.4583333333333333,
          0.2555952380952381,
          0.43499999999999994,
          0.3427272727272727,
          0.049999999999999996,
          0.8000000000000002,
          0.51,
          0.21208791208791208,
          0.21468253968253967,
          0.47500000000000003,
          0.4083333333333334,
          0.47187500000000004,
          0.39211309523809523,
          0.34923809523809524,
          0.5,
          0.4800000000000001,
          0.20937499999999998,
          0.45833333333333337,
          0.5499999999999999,
          0.24666666666666667,
          0.105625,
          0.5166666666666666,
          0.19749999999999995,
          0.2267857142857143,
          0.2563888888888889,
          0.215,
          0.35666666666666663,
          0.55,
          0.1913690476190476,
          0.10000000000000002,
          -0.027777777777777773,
          0.20923202614379086,
          0.8,
          0.4,
          0.5626666666666666,
          -0.4,
          0.18942857142857145,
          0.38998015873015873,
          0.33809523809523806,
          0.421875,
          0.33499999999999996,
          0.14583333333333331,
          0.236,
          0.11499999999999999,
          0.3866666666666666,
          0.34722222222222227,
          0.12000000000000002,
          0.17176870748299317,
          0.31145833333333334,
          0.41944444444444445,
          0.3609375,
          0.08805059523809522,
          0.4275,
          0.10166666666666668,
          -0.4,
          0.36666666666666664,
          0.07477678571428573,
          0.225,
          0.1955357142857143,
          0.34464285714285714,
          0.43083333333333335,
          0.1222222222222222,
          0.43401785714285723,
          0.24487179487179486,
          0.5333333333333333,
          0.24583333333333335,
          0.56875,
          0.24500000000000002,
          0.2702777777777778,
          0.19999999999999998,
          0.6333333333333333,
          0.31777777777777777,
          0.390625,
          0.501388888888889,
          0.8049999999999999,
          0.23819444444444446,
          0.3171428571428571,
          0.46666666666666673,
          0.16428571428571428,
          0.25,
          0.19,
          0.3005952380952381,
          0.7125,
          0.27999999999999997,
          0.2810897435897436,
          0,
          0.3197530864197531,
          0,
          0.3625,
          0.426218487394958,
          0.4725,
          0,
          0.525,
          0.1125,
          0.4142857142857143,
          -0.0050000000000000044,
          0.6666666666666666,
          0.49333333333333335,
          0.3432600732600732,
          0.31666666666666665,
          0.44999999999999996,
          0.557142857142857,
          0.18906250000000002,
          0.32249999999999995,
          0.3979166666666667,
          0.19583333333333333,
          0,
          0.5349999999999999,
          0.3125,
          0.7666666666666666,
          0.15750000000000003,
          0.1,
          0.17121212121212123,
          0.09,
          0.575,
          0.7844444444444444,
          0,
          0,
          0.4675000000000001,
          0.3222222222222222,
          0,
          0,
          0.041071428571428585,
          0.5479166666666667,
          0,
          0.15,
          0.14444444444444446,
          0,
          0.4672727272727272,
          0.26666666666666666,
          0,
          0.08750000000000001,
          0.19537037037037036,
          0,
          0,
          0,
          0.3,
          0.25,
          0,
          0.31560846560846556,
          0,
          0.024999999999999994
         ]
        },
        {
         "marker": {
          "color": "rgb(100, 0, 10)"
         },
         "name": "Rating 5-star",
         "type": "box",
         "y": [
          0.7999999999999999,
          0.3995000000000001,
          0.43333333333333335,
          0.4666666666666666,
          0.35,
          0.5125,
          0.55625,
          0.24527777777777782,
          0.3785714285714286,
          0.38666666666666666,
          0.46218750000000003,
          0.517,
          0.24817708333333333,
          0.8200000000000001,
          0.8333333333333334,
          0.4488888888888889,
          0.4575,
          0.8388888888888889,
          0.3876953125,
          0.6225,
          0.37857142857142856,
          0.6588541666666666,
          0.7529999999999999,
          0.32,
          0.36,
          0.3775,
          0.6666666666666666,
          0.4870535714285714,
          0.457,
          0.4222222222222222,
          0.75,
          0.4166666666666667,
          0.2787109375,
          0.723984375,
          0.42678571428571427,
          0.73125,
          0.85,
          0.3916666666666667,
          0.3208333333333333,
          0.36875,
          0.26875,
          0.305,
          0.4583333333333333,
          0.14250000000000002,
          0.5388888888888889,
          0.39285714285714285,
          0.44500000000000006,
          0.6195,
          0.5206944444444445,
          0.18083333333333332,
          0.5516666666666666,
          0.378125,
          0.6875,
          0.95,
          0.442,
          0.27633928571428573,
          0.41600000000000004,
          0.343936011904762,
          0.7994999999999999,
          0.5222222222222223,
          0.5666666666666667,
          0.3410714285714286,
          0.27130208333333333,
          0.21865079365079368,
          0.44880303030303026,
          0.5443333333333332,
          0.5,
          0.375,
          0.41,
          0.509375,
          0.4353571428571429,
          0.5547619047619048,
          0.4392857142857142,
          0.61875,
          0.48181818181818187,
          0.18006493506493504,
          0.6916666666666668,
          0.30952380952380953,
          0.3,
          0.37300000000000005,
          0.3751445578231292,
          0.5714285714285714,
          0.6466666666666667,
          0.6179036458333333,
          0.35357142857142854,
          0.15,
          0.595,
          0.3076923076923077,
          0.3055555555555556,
          1,
          0.5687500000000001,
          0.6980000000000001,
          0.09791666666666667,
          0.3235,
          0.77671875,
          0.46392045454545455,
          0.6333333333333334,
          0.5291666666666667,
          0.23958333333333334,
          0.5467013888888889,
          0.6060000000000001,
          0.576388888888889,
          0.634090909090909,
          0.34249999999999997,
          0.34750000000000003,
          0.22916666666666663,
          0.6395833333333333,
          0.6625,
          0.49375,
          0.49949999999999994,
          0.39166666666666666,
          0.5672222222222222,
          0.47388888888888886,
          -0.041500000000000016,
          0.396875,
          0.66875,
          0.6366666666666666,
          -0.03125,
          0.54575,
          0.5770833333333333,
          0.2947916666666667,
          0.64375,
          0.2528703703703704,
          0.3079365079365079,
          0.7,
          0.45833333333333337,
          0.6666666666666666,
          0.17124999999999999,
          0.433125,
          0.7473958333333333,
          0.6458333333333334,
          0.24479166666666669,
          0.39,
          0.2689732142857143,
          0.46875,
          0.9378906250000001,
          0.5055555555555556,
          0.22738095238095238,
          0.43507068452380954,
          0.576,
          0.2675,
          0.7726666666666666,
          0.45625,
          0.3869230769230769,
          0.2994047619047619,
          0.27361111111111114,
          0.49630208333333325,
          0.6314285714285715,
          0.65,
          0.29374999999999996,
          0.7385416666666668,
          0.36875,
          0.33117647058823535,
          0.825,
          0.2894607843137255,
          0.4166666666666667,
          0.575,
          0.6525000000000001,
          0.3753472222222222,
          0.21875,
          0.3185185185185185,
          0.41999999999999993,
          0.24444444444444446,
          0.4078571428571429,
          0.20542929292929293,
          0.44000000000000006,
          0.86,
          0.41100000000000003,
          0.0964814814814815,
          0.3892142857142858,
          0.7991666666666667,
          0.49499999999999994,
          0.55,
          0.40277777777777773,
          0.6599999999999999,
          0.5166666666666667,
          0.32738095238095244,
          0.5666666666666668,
          0.51,
          0.22083333333333335,
          0.39375,
          0.21197916666666666,
          0.4,
          0.21388888888888888,
          0.29312499999999997,
          0.41874999999999996,
          0.24109848484848487,
          0.31190476190476196,
          0.5392361111111111,
          0.2290909090909091,
          0.30666666666666664,
          0.325,
          0.5416666666666666,
          0.6227272727272727,
          0.6666666666666666,
          0.9199999999999999,
          0.2616666666666666,
          0.7148148148148148,
          0.6124999999999999,
          0.6991666666666667,
          0.4804166666666667,
          0.2538888888888889,
          0.21874999999999994,
          0.26333333333333336,
          0.46875,
          0.505,
          0.5471428571428572,
          0.41547619047619044,
          0.42888888888888893,
          0.5431818181818182,
          0.5746527777777778,
          0.6513888888888889,
          0.4683333333333333,
          0.39322916666666663,
          0.48750000000000004,
          0,
          0.36822916666666666,
          0.647,
          0.48541666666666666,
          0.5892857142857143,
          0.29999999999999993,
          0.6291666666666667,
          0.4020833333333333,
          0.788037109375,
          0.32857142857142857,
          0.5237499999999999,
          0.6895833333333333,
          0.5714285714285714,
          0.7916666666666666,
          0.27714285714285714,
          0.5709895833333334,
          0.515625,
          0.4933333333333334,
          0.9765625,
          0.72,
          0.4916666666666667,
          0.2875,
          0.8666666666666667,
          0.24857142857142853,
          0.40892156862745094,
          0.5119897959183674,
          0.5495833333333334,
          0.1571428571428571,
          0.7150000000000001,
          0.4399621212121212,
          0.6120000000000001,
          0.1893877551020408,
          0.4685714285714286,
          0.3993055555555556,
          0.35619047619047617,
          0.6683333333333333,
          0.955,
          0.4977164502164502,
          0.7616666666666667,
          0.7331122448979591,
          1,
          0.30555555555555564,
          0.621875,
          0.6937500000000001,
          0.22407407407407406,
          0.5032738095238095,
          0.8087500000000001,
          0.3227272727272727,
          0.10000000000000002,
          0.21666666666666667,
          0.6,
          0.05035714285714286,
          0.16321428571428573,
          0.29255555555555557,
          0.35,
          0.42981481481481487,
          0.31428571428571433,
          0.2732142857142857,
          0.27976190476190477,
          0.39428571428571424,
          0.292008547008547,
          0.2791666666666667,
          0,
          0.0022959183673469464,
          0.5,
          0.3821428571428571,
          0.5333333333333333,
          0.475,
          0.32999999999999996,
          0.49583333333333335,
          0.924,
          0.21202651515151516,
          0.252,
          0.49666666666666676,
          0.6700000000000002,
          0.425,
          0.23229166666666667,
          0.5750000000000001,
          0.31212121212121213,
          0.5494444444444445,
          0.3986111111111111,
          0.717,
          0.6614583333333334,
          0.7604761904761904,
          0.5583333333333332,
          0.08138528138528138,
          0.5625,
          0.4375,
          0.1125,
          0.44497448979591836,
          0.4142361111111111,
          0.275,
          0.38499999999999995,
          0.5458333333333334,
          0.45416666666666666,
          0.5590909090909091,
          0.4775,
          0.6214285714285713,
          0.2625,
          0.6499999999999999,
          0.41758928571428566,
          0.5090277777777777,
          0.27714285714285714,
          0.6218750000000001,
          0.71625,
          0.20601851851851852,
          0.4145833333333333,
          0.30312500000000003,
          0.55,
          0.11958333333333337,
          0.78,
          0.73575,
          0.3703703703703704,
          0.32708333333333334,
          0.40740740740740744,
          0.37,
          0.6313333333333333,
          0.5694444444444445,
          0.3027777777777778,
          0.046875,
          0.5448979591836735,
          0.08333333333333333,
          0.6694444444444446,
          0.621875,
          0.13690476190476192,
          0.2541666666666667,
          0.46624999999999994,
          0.1590909090909091,
          0.5666666666666667,
          0.6009353741496598,
          0.16499999999999998,
          0.575,
          0.4866666666666667,
          0.26999999999999996,
          0.775,
          0.4083333333333334,
          0.3878571428571428,
          0.5194444444444445,
          0.42000000000000004,
          0.48166666666666663,
          0,
          0.4841428571428571,
          0.32484375000000004,
          0.45,
          0.425,
          0.47946428571428573,
          0.6625,
          0.09000000000000001,
          0.3888888888888889,
          0.3,
          0.41500000000000004,
          0.75,
          0.2521428571428571,
          0.4833333333333334,
          0.5338383838383839,
          0.41874999999999996,
          0.7533203125,
          0.47750000000000004,
          0.3653571428571428,
          0.54,
          0.2535714285714286,
          0.4767361111111111,
          0.26175000000000004,
          0.88828125,
          0.60625,
          0.4666666666666667,
          0.3375,
          0.5001190476190477,
          0.6416666666666667,
          0.34571428571428575,
          0.26136363636363635,
          0.30390625,
          0.36000000000000004,
          0.5000000000000001,
          0.36464285714285716,
          0.8333333333333334,
          0.16194196428571428,
          0.20125,
          0.521,
          0.41465277777777776,
          0.509090909090909,
          0.45999999999999996,
          0.65125,
          0.7300000000000001,
          0.6226190476190476,
          0.4583333333333333,
          0.66875,
          0.5266666666666667,
          0.31875000000000003,
          0.4033333333333333,
          0.41964285714285715,
          0.65,
          0.36640625,
          0.35540364583333334,
          0.4414285714285714,
          0.4666666666666666,
          0.34125,
          0.4605555555555555,
          0.7875,
          0.26666666666666666,
          0.48250000000000004,
          0.4428571428571429,
          0.2,
          0.89375,
          0.6000000000000001,
          0.5190476190476191,
          0.8999999999999999,
          1,
          0.5449999999999999,
          0.57265625,
          0.16,
          0.49722222222222223,
          0.52,
          0.2875,
          0.375,
          0.48857142857142855,
          0.5312500000000001,
          0.5904761904761904,
          0.4375,
          0.16666666666666666,
          0.6535714285714286,
          0.6516666666666666,
          0.1117142857142857,
          0.51875,
          0.43499999999999994,
          0.5516666666666666,
          0.3298611111111111,
          0.35446428571428573,
          0.6666666666666666,
          0.7333333333333334,
          0.6699999999999999,
          0.2791666666666667,
          0.3633333333333333,
          0.3472222222222222,
          0.635,
          0.5285714285714286,
          0.7055555555555556,
          0.5583333333333333,
          0.3020833333333333,
          0.7583333333333334,
          0.4816666666666667,
          0.6333333333333334,
          0.5359375,
          0.4375,
          0.638888888888889,
          0.5,
          0.6726689976689975,
          0.34500000000000003,
          0.3181944444444445,
          0.7408854166666666,
          0.4291666666666667,
          0.35,
          0.35989583333333336,
          0.54,
          0.18333333333333332,
          0.45714285714285713,
          0.38,
          0.26785714285714285,
          0.71875,
          0.72,
          0.4876984126984127,
          0.47500000000000003,
          0.6194805194805194,
          0.25022321428571426,
          0.556060606060606,
          0.35,
          0.5227272727272727,
          0.5533333333333333,
          0.5601948051948052,
          0.5625,
          0.19999999999999998,
          0.8666666666666667,
          0.16666666666666666,
          0.2526190476190476,
          0.442,
          0.4395833333333334,
          0.41525641025641025,
          0.5112797619047619,
          0.6,
          0.6375,
          0.38,
          0.6154296875,
          0.4444444444444444,
          0.479875,
          0.3378787878787879,
          0.4964285714285714,
          0.275,
          0.4023148148148148,
          0,
          0,
          0.6,
          0,
          0.11249999999999999,
          0,
          0,
          0,
          0,
          0.29676339285714287,
          0,
          0.35833333333333334,
          0,
          0.3026620370370371,
          0,
          0.6124999999999999,
          0.33749999999999997,
          0.5265625,
          0,
          0,
          0.23482142857142857,
          0,
          0.53125,
          0.322,
          0,
          0.5833333333333334,
          0.3,
          0,
          0.6166666666666667,
          0,
          0.3671527777777777,
          0.5800000000000001,
          0,
          0.3441666666666666,
          0.2575,
          0,
          0.265625,
          0,
          0.38690476190476186,
          0,
          0.1388888888888889,
          0,
          0.40499999999999997,
          0.1142857142857143,
          0.7083333333333333,
          0.441,
          0.19523809523809524,
          0.30000000000000004,
          0.4,
          0.3263000000000001,
          0.15666666666666668,
          0.5325757575757576,
          0.3279166666666666,
          0.13333333333333333,
          0.19,
          0.42129629629629634,
          0.5209374999999999,
          0.6114285714285714,
          0.41875000000000007,
          0.955,
          0.6419270833333334,
          0.3758333333333333,
          0.30416666666666664,
          0.3890909090909091,
          0.505,
          0.54,
          0.0689935064935065,
          0.534375,
          0.3032407407407407,
          0.47000000000000003,
          0.5958333333333333,
          0.4340909090909091,
          0.22999999999999998,
          0.2785714285714286,
          0.045833333333333344,
          0.7166666666666667,
          0.599375,
          0.2625,
          0.23124999999999996,
          0.44250000000000006,
          0.6,
          0.58125,
          0.25416666666666665,
          0.39130952380952383,
          -0.13333333333333333,
          0.24687499999999998,
          0.33749999999999997,
          0.46888888888888886,
          0.3304036458333333,
          0.43333333333333335,
          0.425,
          0.6349999999999999,
          0.42750000000000005,
          0.24583333333333335,
          0.8,
          1,
          0.4771875,
          0.43333333333333335,
          0.5833333333333333,
          0.3390625,
          0.10000000000000003,
          0.6666666666666666,
          0.5666666666666667,
          0.41624999999999995,
          0.37,
          0.5626388888888889,
          0.4391025641025641,
          0.2261904761904762,
          0.4238888888888888,
          0.5166666666666667,
          0.46249999999999997,
          0,
          -0.11666666666666665,
          0,
          0,
          0.48125,
          0,
          0.5,
          0.3214285714285714,
          0,
          0,
          0,
          0.35000000000000003,
          0.8,
          0,
          0.5833333333333333,
          0,
          0.17750000000000002,
          0.40049999999999997,
          0.54375,
          0.365,
          0.5,
          0.6291666666666667,
          0.44375,
          0.5833333333333334,
          0.37875000000000003,
          0.3534285714285714,
          0.09142857142857144,
          0.35000000000000003,
          0.5325,
          0.21984126984126984,
          0.5348214285714286,
          0.3888888888888889,
          0.041428571428571426,
          0.4847222222222222,
          0.8125,
          0.5785714285714285,
          0.5058333333333332,
          0.484375,
          0.233531746031746,
          0.4283333333333333,
          0.17333333333333334,
          0.7000000000000001,
          0.45,
          0.2714285714285714,
          0.34185185185185185,
          0.9,
          0.7949999999999999,
          0.40625,
          0.4227272727272728,
          0.16111111111111112,
          0.39209183673469383,
          0.40499999999999997,
          0.6133333333333334,
          0.47500000000000003,
          0.7333333333333334,
          0.4000000000000001,
          0.6749999999999999,
          0.5750000000000001,
          0.6280555555555556,
          0.4984722222222222,
          0.6200000000000001,
          0.5133333333333333,
          0.49821428571428583,
          0.6666666666666666,
          0.41428571428571426,
          0.4429166666666666,
          0.5166666666666666,
          0.1875,
          0.44499999999999995,
          0,
          0,
          0.575,
          0,
          0.5375,
          0,
          0.4,
          0.5,
          0,
          0.649375,
          0,
          0,
          0,
          0,
          0.8055555555555557,
          0.525,
          0.475,
          0.925,
          0.5525,
          0.5175,
          0.34285714285714286,
          0.23727137445887445,
          0.6749999999999999,
          0.43494047619047616,
          0.16353354978354978,
          0.2375,
          0.49583333333333335,
          0.5454545454545455,
          0.625,
          0.6916666666666668,
          0.225,
          0.5516666666666667,
          0.29219696969696973,
          0.22727272727272724,
          0.3079545454545455,
          0.5126666666666666,
          0.25913461538461535,
          0.3,
          0.48125,
          0.06666666666666672,
          -0.121875,
          0.25,
          0.08333333333333333,
          0.016071428571428577,
          0.8221875,
          0.38285714285714284,
          0,
          0.22500000000000003,
          0,
          0.3333333333333333,
          0,
          0,
          0,
          0.7714285714285715,
          0.5464285714285715,
          0.35,
          0.4083333333333334,
          0.14583333333333337,
          0.42376033057851237,
          0.6,
          0.5208333333333333,
          0.5,
          0.3333333333333333,
          0.4583333333333333,
          0,
          0,
          0.004888888888888898,
          0.5208333333333334,
          0,
          -0.9375,
          0.4797619047619048,
          0.2341666666666667,
          0.5,
          0.2695,
          0.35,
          0.375,
          0.4859375,
          0.06285714285714286,
          0.442,
          0.35000000000000003,
          0,
          0,
          0,
          0,
          0.375,
          0,
          0,
          0.5975,
          0.5525,
          0.5626666666666666,
          0.332786891471102,
          0.2790909090909091,
          0.29500000000000004,
          0,
          0,
          0,
          0,
          0,
          0,
          0.7816666666666667,
          0,
          0.1,
          0.5166666666666667,
          1,
          0,
          0.45625,
          0,
          0.45833333333333326,
          0,
          0.605,
          0,
          0.58,
          0.17500000000000002,
          0,
          0,
          0,
          0,
          -0.425,
          0.3904761904761905,
          0.4166666666666667,
          0.04833333333333333,
          0.5,
          0,
          0,
          0,
          0,
          0,
          0,
          0,
          0.39,
          0.3541666666666667,
          0,
          0,
          0.7275,
          0,
          0,
          0,
          0,
          0.41500000000000004,
          0.2208333333333333,
          0.9500000000000001,
          0.2864512471655329,
          0,
          0.44000000000000006,
          0,
          0.4375,
          0,
          0.5,
          0,
          0,
          0,
          0.26999999999999996,
          0,
          0.3223333333333333,
          0.5666666666666667,
          0.3776041666666667,
          0.6083333333333333
         ]
        }
       ],
       "layout": {
        "template": {
         "data": {
          "bar": [
           {
            "error_x": {
             "color": "#2a3f5f"
            },
            "error_y": {
             "color": "#2a3f5f"
            },
            "marker": {
             "line": {
              "color": "#E5ECF6",
              "width": 0.5
             },
             "pattern": {
              "fillmode": "overlay",
              "size": 10,
              "solidity": 0.2
             }
            },
            "type": "bar"
           }
          ],
          "barpolar": [
           {
            "marker": {
             "line": {
              "color": "#E5ECF6",
              "width": 0.5
             },
             "pattern": {
              "fillmode": "overlay",
              "size": 10,
              "solidity": 0.2
             }
            },
            "type": "barpolar"
           }
          ],
          "carpet": [
           {
            "aaxis": {
             "endlinecolor": "#2a3f5f",
             "gridcolor": "white",
             "linecolor": "white",
             "minorgridcolor": "white",
             "startlinecolor": "#2a3f5f"
            },
            "baxis": {
             "endlinecolor": "#2a3f5f",
             "gridcolor": "white",
             "linecolor": "white",
             "minorgridcolor": "white",
             "startlinecolor": "#2a3f5f"
            },
            "type": "carpet"
           }
          ],
          "choropleth": [
           {
            "colorbar": {
             "outlinewidth": 0,
             "ticks": ""
            },
            "type": "choropleth"
           }
          ],
          "contour": [
           {
            "colorbar": {
             "outlinewidth": 0,
             "ticks": ""
            },
            "colorscale": [
             [
              0,
              "#0d0887"
             ],
             [
              0.1111111111111111,
              "#46039f"
             ],
             [
              0.2222222222222222,
              "#7201a8"
             ],
             [
              0.3333333333333333,
              "#9c179e"
             ],
             [
              0.4444444444444444,
              "#bd3786"
             ],
             [
              0.5555555555555556,
              "#d8576b"
             ],
             [
              0.6666666666666666,
              "#ed7953"
             ],
             [
              0.7777777777777778,
              "#fb9f3a"
             ],
             [
              0.8888888888888888,
              "#fdca26"
             ],
             [
              1,
              "#f0f921"
             ]
            ],
            "type": "contour"
           }
          ],
          "contourcarpet": [
           {
            "colorbar": {
             "outlinewidth": 0,
             "ticks": ""
            },
            "type": "contourcarpet"
           }
          ],
          "heatmap": [
           {
            "colorbar": {
             "outlinewidth": 0,
             "ticks": ""
            },
            "colorscale": [
             [
              0,
              "#0d0887"
             ],
             [
              0.1111111111111111,
              "#46039f"
             ],
             [
              0.2222222222222222,
              "#7201a8"
             ],
             [
              0.3333333333333333,
              "#9c179e"
             ],
             [
              0.4444444444444444,
              "#bd3786"
             ],
             [
              0.5555555555555556,
              "#d8576b"
             ],
             [
              0.6666666666666666,
              "#ed7953"
             ],
             [
              0.7777777777777778,
              "#fb9f3a"
             ],
             [
              0.8888888888888888,
              "#fdca26"
             ],
             [
              1,
              "#f0f921"
             ]
            ],
            "type": "heatmap"
           }
          ],
          "heatmapgl": [
           {
            "colorbar": {
             "outlinewidth": 0,
             "ticks": ""
            },
            "colorscale": [
             [
              0,
              "#0d0887"
             ],
             [
              0.1111111111111111,
              "#46039f"
             ],
             [
              0.2222222222222222,
              "#7201a8"
             ],
             [
              0.3333333333333333,
              "#9c179e"
             ],
             [
              0.4444444444444444,
              "#bd3786"
             ],
             [
              0.5555555555555556,
              "#d8576b"
             ],
             [
              0.6666666666666666,
              "#ed7953"
             ],
             [
              0.7777777777777778,
              "#fb9f3a"
             ],
             [
              0.8888888888888888,
              "#fdca26"
             ],
             [
              1,
              "#f0f921"
             ]
            ],
            "type": "heatmapgl"
           }
          ],
          "histogram": [
           {
            "marker": {
             "pattern": {
              "fillmode": "overlay",
              "size": 10,
              "solidity": 0.2
             }
            },
            "type": "histogram"
           }
          ],
          "histogram2d": [
           {
            "colorbar": {
             "outlinewidth": 0,
             "ticks": ""
            },
            "colorscale": [
             [
              0,
              "#0d0887"
             ],
             [
              0.1111111111111111,
              "#46039f"
             ],
             [
              0.2222222222222222,
              "#7201a8"
             ],
             [
              0.3333333333333333,
              "#9c179e"
             ],
             [
              0.4444444444444444,
              "#bd3786"
             ],
             [
              0.5555555555555556,
              "#d8576b"
             ],
             [
              0.6666666666666666,
              "#ed7953"
             ],
             [
              0.7777777777777778,
              "#fb9f3a"
             ],
             [
              0.8888888888888888,
              "#fdca26"
             ],
             [
              1,
              "#f0f921"
             ]
            ],
            "type": "histogram2d"
           }
          ],
          "histogram2dcontour": [
           {
            "colorbar": {
             "outlinewidth": 0,
             "ticks": ""
            },
            "colorscale": [
             [
              0,
              "#0d0887"
             ],
             [
              0.1111111111111111,
              "#46039f"
             ],
             [
              0.2222222222222222,
              "#7201a8"
             ],
             [
              0.3333333333333333,
              "#9c179e"
             ],
             [
              0.4444444444444444,
              "#bd3786"
             ],
             [
              0.5555555555555556,
              "#d8576b"
             ],
             [
              0.6666666666666666,
              "#ed7953"
             ],
             [
              0.7777777777777778,
              "#fb9f3a"
             ],
             [
              0.8888888888888888,
              "#fdca26"
             ],
             [
              1,
              "#f0f921"
             ]
            ],
            "type": "histogram2dcontour"
           }
          ],
          "mesh3d": [
           {
            "colorbar": {
             "outlinewidth": 0,
             "ticks": ""
            },
            "type": "mesh3d"
           }
          ],
          "parcoords": [
           {
            "line": {
             "colorbar": {
              "outlinewidth": 0,
              "ticks": ""
             }
            },
            "type": "parcoords"
           }
          ],
          "pie": [
           {
            "automargin": true,
            "type": "pie"
           }
          ],
          "scatter": [
           {
            "fillpattern": {
             "fillmode": "overlay",
             "size": 10,
             "solidity": 0.2
            },
            "type": "scatter"
           }
          ],
          "scatter3d": [
           {
            "line": {
             "colorbar": {
              "outlinewidth": 0,
              "ticks": ""
             }
            },
            "marker": {
             "colorbar": {
              "outlinewidth": 0,
              "ticks": ""
             }
            },
            "type": "scatter3d"
           }
          ],
          "scattercarpet": [
           {
            "marker": {
             "colorbar": {
              "outlinewidth": 0,
              "ticks": ""
             }
            },
            "type": "scattercarpet"
           }
          ],
          "scattergeo": [
           {
            "marker": {
             "colorbar": {
              "outlinewidth": 0,
              "ticks": ""
             }
            },
            "type": "scattergeo"
           }
          ],
          "scattergl": [
           {
            "marker": {
             "colorbar": {
              "outlinewidth": 0,
              "ticks": ""
             }
            },
            "type": "scattergl"
           }
          ],
          "scattermapbox": [
           {
            "marker": {
             "colorbar": {
              "outlinewidth": 0,
              "ticks": ""
             }
            },
            "type": "scattermapbox"
           }
          ],
          "scatterpolar": [
           {
            "marker": {
             "colorbar": {
              "outlinewidth": 0,
              "ticks": ""
             }
            },
            "type": "scatterpolar"
           }
          ],
          "scatterpolargl": [
           {
            "marker": {
             "colorbar": {
              "outlinewidth": 0,
              "ticks": ""
             }
            },
            "type": "scatterpolargl"
           }
          ],
          "scatterternary": [
           {
            "marker": {
             "colorbar": {
              "outlinewidth": 0,
              "ticks": ""
             }
            },
            "type": "scatterternary"
           }
          ],
          "surface": [
           {
            "colorbar": {
             "outlinewidth": 0,
             "ticks": ""
            },
            "colorscale": [
             [
              0,
              "#0d0887"
             ],
             [
              0.1111111111111111,
              "#46039f"
             ],
             [
              0.2222222222222222,
              "#7201a8"
             ],
             [
              0.3333333333333333,
              "#9c179e"
             ],
             [
              0.4444444444444444,
              "#bd3786"
             ],
             [
              0.5555555555555556,
              "#d8576b"
             ],
             [
              0.6666666666666666,
              "#ed7953"
             ],
             [
              0.7777777777777778,
              "#fb9f3a"
             ],
             [
              0.8888888888888888,
              "#fdca26"
             ],
             [
              1,
              "#f0f921"
             ]
            ],
            "type": "surface"
           }
          ],
          "table": [
           {
            "cells": {
             "fill": {
              "color": "#EBF0F8"
             },
             "line": {
              "color": "white"
             }
            },
            "header": {
             "fill": {
              "color": "#C8D4E3"
             },
             "line": {
              "color": "white"
             }
            },
            "type": "table"
           }
          ]
         },
         "layout": {
          "annotationdefaults": {
           "arrowcolor": "#2a3f5f",
           "arrowhead": 0,
           "arrowwidth": 1
          },
          "autotypenumbers": "strict",
          "coloraxis": {
           "colorbar": {
            "outlinewidth": 0,
            "ticks": ""
           }
          },
          "colorscale": {
           "diverging": [
            [
             0,
             "#8e0152"
            ],
            [
             0.1,
             "#c51b7d"
            ],
            [
             0.2,
             "#de77ae"
            ],
            [
             0.3,
             "#f1b6da"
            ],
            [
             0.4,
             "#fde0ef"
            ],
            [
             0.5,
             "#f7f7f7"
            ],
            [
             0.6,
             "#e6f5d0"
            ],
            [
             0.7,
             "#b8e186"
            ],
            [
             0.8,
             "#7fbc41"
            ],
            [
             0.9,
             "#4d9221"
            ],
            [
             1,
             "#276419"
            ]
           ],
           "sequential": [
            [
             0,
             "#0d0887"
            ],
            [
             0.1111111111111111,
             "#46039f"
            ],
            [
             0.2222222222222222,
             "#7201a8"
            ],
            [
             0.3333333333333333,
             "#9c179e"
            ],
            [
             0.4444444444444444,
             "#bd3786"
            ],
            [
             0.5555555555555556,
             "#d8576b"
            ],
            [
             0.6666666666666666,
             "#ed7953"
            ],
            [
             0.7777777777777778,
             "#fb9f3a"
            ],
            [
             0.8888888888888888,
             "#fdca26"
            ],
            [
             1,
             "#f0f921"
            ]
           ],
           "sequentialminus": [
            [
             0,
             "#0d0887"
            ],
            [
             0.1111111111111111,
             "#46039f"
            ],
            [
             0.2222222222222222,
             "#7201a8"
            ],
            [
             0.3333333333333333,
             "#9c179e"
            ],
            [
             0.4444444444444444,
             "#bd3786"
            ],
            [
             0.5555555555555556,
             "#d8576b"
            ],
            [
             0.6666666666666666,
             "#ed7953"
            ],
            [
             0.7777777777777778,
             "#fb9f3a"
            ],
            [
             0.8888888888888888,
             "#fdca26"
            ],
            [
             1,
             "#f0f921"
            ]
           ]
          },
          "colorway": [
           "#636efa",
           "#EF553B",
           "#00cc96",
           "#ab63fa",
           "#FFA15A",
           "#19d3f3",
           "#FF6692",
           "#B6E880",
           "#FF97FF",
           "#FECB52"
          ],
          "font": {
           "color": "#2a3f5f"
          },
          "geo": {
           "bgcolor": "white",
           "lakecolor": "white",
           "landcolor": "#E5ECF6",
           "showlakes": true,
           "showland": true,
           "subunitcolor": "white"
          },
          "hoverlabel": {
           "align": "left"
          },
          "hovermode": "closest",
          "mapbox": {
           "style": "light"
          },
          "paper_bgcolor": "white",
          "plot_bgcolor": "#E5ECF6",
          "polar": {
           "angularaxis": {
            "gridcolor": "white",
            "linecolor": "white",
            "ticks": ""
           },
           "bgcolor": "#E5ECF6",
           "radialaxis": {
            "gridcolor": "white",
            "linecolor": "white",
            "ticks": ""
           }
          },
          "scene": {
           "xaxis": {
            "backgroundcolor": "#E5ECF6",
            "gridcolor": "white",
            "gridwidth": 2,
            "linecolor": "white",
            "showbackground": true,
            "ticks": "",
            "zerolinecolor": "white"
           },
           "yaxis": {
            "backgroundcolor": "#E5ECF6",
            "gridcolor": "white",
            "gridwidth": 2,
            "linecolor": "white",
            "showbackground": true,
            "ticks": "",
            "zerolinecolor": "white"
           },
           "zaxis": {
            "backgroundcolor": "#E5ECF6",
            "gridcolor": "white",
            "gridwidth": 2,
            "linecolor": "white",
            "showbackground": true,
            "ticks": "",
            "zerolinecolor": "white"
           }
          },
          "shapedefaults": {
           "line": {
            "color": "#2a3f5f"
           }
          },
          "ternary": {
           "aaxis": {
            "gridcolor": "white",
            "linecolor": "white",
            "ticks": ""
           },
           "baxis": {
            "gridcolor": "white",
            "linecolor": "white",
            "ticks": ""
           },
           "bgcolor": "#E5ECF6",
           "caxis": {
            "gridcolor": "white",
            "linecolor": "white",
            "ticks": ""
           }
          },
          "title": {
           "x": 0.05
          },
          "xaxis": {
           "automargin": true,
           "gridcolor": "white",
           "linecolor": "white",
           "ticks": "",
           "title": {
            "standoff": 15
           },
           "zerolinecolor": "white",
           "zerolinewidth": 2
          },
          "yaxis": {
           "automargin": true,
           "gridcolor": "white",
           "linecolor": "white",
           "ticks": "",
           "title": {
            "standoff": 15
           },
           "zerolinecolor": "white",
           "zerolinewidth": 2
          }
         }
        },
        "title": {
         "text": "Sentiment Polarity Boxplot of User Ratings"
        }
       }
      }
     },
     "metadata": {},
     "output_type": "display_data"
    }
   ],
   "source": [
    "import plotly\n",
    "import plotly.graph_objs as go\n",
    "\n",
    "trace1 = go.Box(\n",
    "    y=y1,\n",
    "    name = 'Rating 1-star',\n",
    "    marker = dict(\n",
    "        color = 'rgb(0, 128, 128)',\n",
    "    )\n",
    ")\n",
    "trace2 = go.Box(\n",
    "    y=y2,\n",
    "    name = 'Rating 2-star',\n",
    "    marker = dict(\n",
    "        color = 'rgb(10, 140, 208)',\n",
    "    )\n",
    ")\n",
    "trace3 = go.Box(\n",
    "    y=y3,\n",
    "    name = 'Rating 3-star',\n",
    "    marker = dict(\n",
    "        color = 'rgb(12, 102, 14)',\n",
    "    )\n",
    ")\n",
    "trace4 = go.Box(\n",
    "    y=y4,\n",
    "    name = 'Rating 4-star',\n",
    "    marker = dict(\n",
    "        color = 'rgb(10, 0, 100)',\n",
    "    )\n",
    ")\n",
    "trace5 = go.Box(\n",
    "    y=y5,\n",
    "    name = 'Rating 5-star',\n",
    "    marker = dict(\n",
    "        color = 'rgb(100, 0, 10)',\n",
    "    )\n",
    ")\n",
    "data = [trace1, trace2, trace3, trace4, trace5]\n",
    "layout = go.Layout(\n",
    "    title = \"Sentiment Polarity Boxplot of User Ratings\"\n",
    ")\n",
    "\n",
    "fig = go.Figure(data=data,layout=layout)\n",
    "plotly.offline.iplot(fig, filename = \"Sentiment Polarity Boxplot of User Ratings\")"
   ]
  }
 ],
 "metadata": {
  "interpreter": {
   "hash": "fcf1d46d271c46101d6967829d4a5f475342a2ce08e4944f989fbcdc9bb23690"
  },
  "kernelspec": {
   "display_name": "Python 3.9.0 64-bit",
   "language": "python",
   "name": "python3"
  },
  "language_info": {
   "codemirror_mode": {
    "name": "ipython",
    "version": 3
   },
   "file_extension": ".py",
   "mimetype": "text/x-python",
   "name": "python",
   "nbconvert_exporter": "python",
   "pygments_lexer": "ipython3",
   "version": "3.8.3"
  },
  "orig_nbformat": 4
 },
 "nbformat": 4,
 "nbformat_minor": 2
}
